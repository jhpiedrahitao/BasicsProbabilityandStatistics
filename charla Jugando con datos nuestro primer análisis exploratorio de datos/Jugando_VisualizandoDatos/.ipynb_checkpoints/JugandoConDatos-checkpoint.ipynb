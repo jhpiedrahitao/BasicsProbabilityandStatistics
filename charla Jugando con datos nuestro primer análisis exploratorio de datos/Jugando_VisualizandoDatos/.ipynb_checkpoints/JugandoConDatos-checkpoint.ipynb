{
 "cells": [
  {
   "cell_type": "markdown",
   "metadata": {
    "colab_type": "text",
    "id": "view-in-github"
   },
   "source": [
    "![alt text](https://www.urosario.edu.co/App_Themes/MaestroIngenieriaBiomedica/imagenes/ur-horizontal.png)\n",
    "![alt text](https://www.urosario.edu.co/App_Themes/MaestroIngenieriaBiomedica/imagenes/eci-horizontal.png)"
   ]
  },
  {
   "cell_type": "markdown",
   "metadata": {
    "colab_type": "text",
    "id": "UJESJMYHofQc"
   },
   "source": [
    "# MAESTRÍA EN INGENIERÍA BIOMÉDICA\n",
    "## OSCAR JULIÁN PERDOMO CHARRY, PhD"
   ]
  },
  {
   "cell_type": "markdown",
   "metadata": {
    "colab_type": "text",
    "id": "FZBr4_ny6UCr"
   },
   "source": [
    "# Introducción al manejo de Python en la nube (Colab)"
   ]
  },
  {
   "cell_type": "markdown",
   "metadata": {
    "colab_type": "text",
    "id": "45mGoUjaZRWP"
   },
   "source": [
    "Colaboratory es un entorno gratuito para correr archivo de python en un notebook de Jupyter, con la principal ventaja que ya tiene por defecto cargada diferentes configuraciones"
   ]
  },
  {
   "cell_type": "markdown",
   "metadata": {
    "colab_type": "text",
    "id": "E3O7xf5WiJHc"
   },
   "source": [
    "Presenta algunas __otras__ **utilidades** _otras_ más *sencillas*\n",
    " \n",
    "# Nota 1\n",
    "## Nota 2\n",
    "### Nota 3\n",
    "#### Nota 4"
   ]
  },
  {
   "cell_type": "markdown",
   "metadata": {
    "colab_type": "text",
    "id": "YtUpWBRyiaPG"
   },
   "source": [
    "## 1. Celdas de Código\n",
    "\n",
    "Correr con:\n",
    "* Play\n",
    "* Shift+Enter\n",
    "* Control + Enter\n",
    "* Alt + Enter"
   ]
  },
  {
   "cell_type": "code",
   "execution_count": null,
   "metadata": {
    "colab": {
     "base_uri": "https://localhost:8080/",
     "height": 35
    },
    "colab_type": "code",
    "executionInfo": {
     "elapsed": 405,
     "status": "ok",
     "timestamp": 1597078506846,
     "user": {
      "displayName": "oscar julian perdomo charry",
      "photoUrl": "https://lh3.googleusercontent.com/a-/AOh14Gj50GKHE5azeLasCIdHHvJyKbb-J9QYQYnhmZmjUmY=s64",
      "userId": "00703697915370109039"
     },
     "user_tz": 300
    },
    "id": "KkBqvJp-ZYMG",
    "outputId": "a29b9469-4e64-457b-a57e-d5520fa62211"
   },
   "outputs": [
    {
     "name": "stdout",
     "output_type": "stream",
     "text": [
      "Hola\n"
     ]
    }
   ],
   "source": [
    "a=\"Hola\"\n",
    "print(a)"
   ]
  },
  {
   "cell_type": "code",
   "execution_count": null,
   "metadata": {
    "colab": {
     "base_uri": "https://localhost:8080/",
     "height": 35
    },
    "colab_type": "code",
    "executionInfo": {
     "elapsed": 506,
     "status": "ok",
     "timestamp": 1597078507457,
     "user": {
      "displayName": "oscar julian perdomo charry",
      "photoUrl": "https://lh3.googleusercontent.com/a-/AOh14Gj50GKHE5azeLasCIdHHvJyKbb-J9QYQYnhmZmjUmY=s64",
      "userId": "00703697915370109039"
     },
     "user_tz": 300
    },
    "id": "gspcZYDnJFK4",
    "outputId": "21f1ac38-d046-4b44-a41f-b0a87c6ef920"
   },
   "outputs": [
    {
     "name": "stdout",
     "output_type": "stream",
     "text": [
      "4\n"
     ]
    }
   ],
   "source": [
    "b=4\n",
    "print(b)"
   ]
  },
  {
   "cell_type": "code",
   "execution_count": null,
   "metadata": {
    "colab": {
     "base_uri": "https://localhost:8080/",
     "height": 35
    },
    "colab_type": "code",
    "executionInfo": {
     "elapsed": 472,
     "status": "ok",
     "timestamp": 1597078507707,
     "user": {
      "displayName": "oscar julian perdomo charry",
      "photoUrl": "https://lh3.googleusercontent.com/a-/AOh14Gj50GKHE5azeLasCIdHHvJyKbb-J9QYQYnhmZmjUmY=s64",
      "userId": "00703697915370109039"
     },
     "user_tz": 300
    },
    "id": "tBK3pcERJFSs",
    "outputId": "69b6300c-1194-41b5-95af-d5296ef2eb7d"
   },
   "outputs": [
    {
     "name": "stdout",
     "output_type": "stream",
     "text": [
      "{1, 2, 3}\n"
     ]
    }
   ],
   "source": [
    "c={1,2,3}\n",
    "print(c)"
   ]
  },
  {
   "cell_type": "code",
   "execution_count": null,
   "metadata": {
    "colab": {},
    "colab_type": "code",
    "id": "mvce1UeXUL01"
   },
   "outputs": [],
   "source": []
  },
  {
   "cell_type": "code",
   "execution_count": null,
   "metadata": {
    "colab": {
     "base_uri": "https://localhost:8080/",
     "height": 35
    },
    "colab_type": "code",
    "executionInfo": {
     "elapsed": 725,
     "status": "ok",
     "timestamp": 1597078511907,
     "user": {
      "displayName": "oscar julian perdomo charry",
      "photoUrl": "https://lh3.googleusercontent.com/a-/AOh14Gj50GKHE5azeLasCIdHHvJyKbb-J9QYQYnhmZmjUmY=s64",
      "userId": "00703697915370109039"
     },
     "user_tz": 300
    },
    "id": "W-ej29nTJFgS",
    "outputId": "93b7757c-093f-4a13-a100-620efb19bcdd"
   },
   "outputs": [
    {
     "name": "stdout",
     "output_type": "stream",
     "text": [
      "[1, 2, 3]\n"
     ]
    }
   ],
   "source": [
    "d=[1, 2, 3]\n",
    "print(d)"
   ]
  },
  {
   "cell_type": "code",
   "execution_count": null,
   "metadata": {
    "colab": {
     "base_uri": "https://localhost:8080/",
     "height": 146
    },
    "colab_type": "code",
    "executionInfo": {
     "elapsed": 497,
     "status": "ok",
     "timestamp": 1597078511908,
     "user": {
      "displayName": "oscar julian perdomo charry",
      "photoUrl": "https://lh3.googleusercontent.com/a-/AOh14Gj50GKHE5azeLasCIdHHvJyKbb-J9QYQYnhmZmjUmY=s64",
      "userId": "00703697915370109039"
     },
     "user_tz": 300
    },
    "id": "Uo8WnFviwV1z",
    "outputId": "b25cfa3e-70fe-4e44-eea1-1c28e61d786b"
   },
   "outputs": [
    {
     "name": "stdout",
     "output_type": "stream",
     "text": [
      "Variable   Type      Data/Info\n",
      "------------------------------\n",
      "a          str       Hola\n",
      "b          int       4\n",
      "c          set       {1, 2, 3}\n",
      "d          list      n=3\n",
      "np         module    <module 'numpy' from '/us<...>kages/numpy/__init__.py'>\n"
     ]
    }
   ],
   "source": [
    "whos"
   ]
  },
  {
   "cell_type": "code",
   "execution_count": null,
   "metadata": {
    "colab": {
     "base_uri": "https://localhost:8080/",
     "height": 35
    },
    "colab_type": "code",
    "executionInfo": {
     "elapsed": 716,
     "status": "ok",
     "timestamp": 1597078512323,
     "user": {
      "displayName": "oscar julian perdomo charry",
      "photoUrl": "https://lh3.googleusercontent.com/a-/AOh14Gj50GKHE5azeLasCIdHHvJyKbb-J9QYQYnhmZmjUmY=s64",
      "userId": "00703697915370109039"
     },
     "user_tz": 300
    },
    "id": "dF5F-dtHDciU",
    "outputId": "c3df662d-0e87-4fc8-96e1-e97bceba94dc"
   },
   "outputs": [
    {
     "name": "stdout",
     "output_type": "stream",
     "text": [
      "Saludo: Hola y se contar: {1, 2, 3}\n"
     ]
    }
   ],
   "source": [
    "print('Saludo: {} y se contar: {}'.format(a,c))"
   ]
  },
  {
   "cell_type": "code",
   "execution_count": null,
   "metadata": {
    "colab": {
     "base_uri": "https://localhost:8080/",
     "height": 35
    },
    "colab_type": "code",
    "executionInfo": {
     "elapsed": 737,
     "status": "ok",
     "timestamp": 1597078512524,
     "user": {
      "displayName": "oscar julian perdomo charry",
      "photoUrl": "https://lh3.googleusercontent.com/a-/AOh14Gj50GKHE5azeLasCIdHHvJyKbb-J9QYQYnhmZmjUmY=s64",
      "userId": "00703697915370109039"
     },
     "user_tz": 300
    },
    "id": "vH8zXxttDciW",
    "outputId": "d54d4918-bcd9-4845-c544-1e5db3638b95"
   },
   "outputs": [
    {
     "name": "stdout",
     "output_type": "stream",
     "text": [
      "Saludo: Hola y se contar: {1, 2, 3}\n"
     ]
    }
   ],
   "source": [
    "print('Saludo: {uno} y se contar: {dos}'.format(uno=a,dos=c))"
   ]
  },
  {
   "cell_type": "code",
   "execution_count": null,
   "metadata": {
    "colab": {
     "base_uri": "https://localhost:8080/",
     "height": 35
    },
    "colab_type": "code",
    "executionInfo": {
     "elapsed": 751,
     "status": "ok",
     "timestamp": 1597078512910,
     "user": {
      "displayName": "oscar julian perdomo charry",
      "photoUrl": "https://lh3.googleusercontent.com/a-/AOh14Gj50GKHE5azeLasCIdHHvJyKbb-J9QYQYnhmZmjUmY=s64",
      "userId": "00703697915370109039"
     },
     "user_tz": 300
    },
    "id": "gGALnD9_DciX",
    "outputId": "f6a66fc4-2b53-4cdb-c5ce-671682e222f9"
   },
   "outputs": [
    {
     "name": "stdout",
     "output_type": "stream",
     "text": [
      "Saludo: Hola y se contar: {1, 2, 3}, otra vez: {1, 2, 3}\n"
     ]
    }
   ],
   "source": [
    "print('Saludo: {uno} y se contar: {dos}, otra vez: {dos}'.format(uno=a, dos=c))"
   ]
  },
  {
   "cell_type": "code",
   "execution_count": null,
   "metadata": {
    "colab": {
     "base_uri": "https://localhost:8080/",
     "height": 35
    },
    "colab_type": "code",
    "executionInfo": {
     "elapsed": 491,
     "status": "ok",
     "timestamp": 1597078513133,
     "user": {
      "displayName": "oscar julian perdomo charry",
      "photoUrl": "https://lh3.googleusercontent.com/a-/AOh14Gj50GKHE5azeLasCIdHHvJyKbb-J9QYQYnhmZmjUmY=s64",
      "userId": "00703697915370109039"
     },
     "user_tz": 300
    },
    "id": "uMjpLk5jDcia",
    "outputId": "17b1ce35-ff1f-4523-fada-8a68139dd8da"
   },
   "outputs": [
    {
     "name": "stdout",
     "output_type": "stream",
     "text": [
      "Saludo: Hola y se contar: {1, 2, 3}\n"
     ]
    }
   ],
   "source": [
    "print(\"Saludo: %s y se contar: %s\" % (a,c)) "
   ]
  },
  {
   "cell_type": "code",
   "execution_count": null,
   "metadata": {
    "colab": {
     "base_uri": "https://localhost:8080/",
     "height": 35
    },
    "colab_type": "code",
    "executionInfo": {
     "elapsed": 438,
     "status": "ok",
     "timestamp": 1597078513837,
     "user": {
      "displayName": "oscar julian perdomo charry",
      "photoUrl": "https://lh3.googleusercontent.com/a-/AOh14Gj50GKHE5azeLasCIdHHvJyKbb-J9QYQYnhmZmjUmY=s64",
      "userId": "00703697915370109039"
     },
     "user_tz": 300
    },
    "id": "ur9rZj0e-Ap7",
    "outputId": "c95101b4-6137-4255-be8b-8a022b97c404"
   },
   "outputs": [
    {
     "name": "stdout",
     "output_type": "stream",
     "text": [
      "Mi número es: Hola y mi nombre es: {1, 2, 3}\n"
     ]
    }
   ],
   "source": [
    "# f-string Python 3\n",
    "print(f\"Mi número es: {a} y mi nombre es: {c}\") "
   ]
  },
  {
   "cell_type": "markdown",
   "metadata": {
    "colab_type": "text",
    "id": "4_MwrWSxSJLq"
   },
   "source": [
    "### Como importar libreías?"
   ]
  },
  {
   "cell_type": "code",
   "execution_count": null,
   "metadata": {
    "colab": {},
    "colab_type": "code",
    "id": "hltonqWNSaYB"
   },
   "outputs": [],
   "source": [
    "import numpy as np #Librería númerica de funciones matemáticas"
   ]
  },
  {
   "cell_type": "markdown",
   "metadata": {
    "colab_type": "text",
    "id": "uM61Px2YTRe3"
   },
   "source": [
    "![alt text](https://i2.wp.com/live.staticflickr.com/65535/48055376383_9ce042fd0f_c.jpg?resize=748%2C800&ssl=1)\n",
    "\n",
    "[Numpy](https://numpy.org/)"
   ]
  },
  {
   "cell_type": "markdown",
   "metadata": {
    "colab_type": "text",
    "id": "qJV8NJ7dSoKn"
   },
   "source": [
    "### Como buscar ayuda online?"
   ]
  },
  {
   "cell_type": "code",
   "execution_count": null,
   "metadata": {
    "colab": {},
    "colab_type": "code",
    "id": "AR_dWelESQaE"
   },
   "outputs": [],
   "source": [
    "np.mean?"
   ]
  },
  {
   "cell_type": "code",
   "execution_count": null,
   "metadata": {
    "colab": {},
    "colab_type": "code",
    "id": "hdTYKfaFSygi"
   },
   "outputs": [],
   "source": [
    "media = np.mean(d)"
   ]
  },
  {
   "cell_type": "code",
   "execution_count": null,
   "metadata": {
    "colab": {
     "base_uri": "https://localhost:8080/",
     "height": 35
    },
    "colab_type": "code",
    "executionInfo": {
     "elapsed": 344,
     "status": "ok",
     "timestamp": 1597078655505,
     "user": {
      "displayName": "oscar julian perdomo charry",
      "photoUrl": "https://lh3.googleusercontent.com/a-/AOh14Gj50GKHE5azeLasCIdHHvJyKbb-J9QYQYnhmZmjUmY=s64",
      "userId": "00703697915370109039"
     },
     "user_tz": 300
    },
    "id": "SNu3YA2iS4sx",
    "outputId": "3a260cd4-0823-4274-b293-9879638572ee"
   },
   "outputs": [
    {
     "data": {
      "text/plain": [
       "2.0"
      ]
     },
     "execution_count": 19,
     "metadata": {
      "tags": []
     },
     "output_type": "execute_result"
    }
   ],
   "source": [
    "media"
   ]
  },
  {
   "cell_type": "code",
   "execution_count": null,
   "metadata": {
    "colab": {},
    "colab_type": "code",
    "id": "JT_zIlVBxjVN"
   },
   "outputs": [],
   "source": [
    "np.concatenate?"
   ]
  },
  {
   "cell_type": "code",
   "execution_count": null,
   "metadata": {
    "colab": {
     "base_uri": "https://localhost:8080/",
     "height": 209
    },
    "colab_type": "code",
    "executionInfo": {
     "elapsed": 409,
     "status": "error",
     "timestamp": 1597078714149,
     "user": {
      "displayName": "oscar julian perdomo charry",
      "photoUrl": "https://lh3.googleusercontent.com/a-/AOh14Gj50GKHE5azeLasCIdHHvJyKbb-J9QYQYnhmZmjUmY=s64",
      "userId": "00703697915370109039"
     },
     "user_tz": 300
    },
    "id": "lRBRBJwaxDc8",
    "outputId": "99106730-4b99-4e63-ba12-18718764d80c"
   },
   "outputs": [
    {
     "ename": "TypeError",
     "evalue": "ignored",
     "output_type": "error",
     "traceback": [
      "\u001b[0;31m---------------------------------------------------------------------------\u001b[0m",
      "\u001b[0;31mTypeError\u001b[0m                                 Traceback (most recent call last)",
      "\u001b[0;32m<ipython-input-21-99762df8578f>\u001b[0m in \u001b[0;36m<module>\u001b[0;34m()\u001b[0m\n\u001b[0;32m----> 1\u001b[0;31m \u001b[0mdd\u001b[0m\u001b[0;34m=\u001b[0m \u001b[0mnp\u001b[0m\u001b[0;34m.\u001b[0m\u001b[0mconcatenate\u001b[0m\u001b[0;34m(\u001b[0m\u001b[0md\u001b[0m\u001b[0;34m,\u001b[0m\u001b[0md\u001b[0m\u001b[0;34m)\u001b[0m\u001b[0;34m\u001b[0m\u001b[0;34m\u001b[0m\u001b[0m\n\u001b[0m",
      "\u001b[0;32m<__array_function__ internals>\u001b[0m in \u001b[0;36mconcatenate\u001b[0;34m(*args, **kwargs)\u001b[0m\n",
      "\u001b[0;31mTypeError\u001b[0m: 'list' object cannot be interpreted as an integer"
     ]
    }
   ],
   "source": [
    "dd= np.concatenate(d,d)"
   ]
  },
  {
   "cell_type": "code",
   "execution_count": null,
   "metadata": {
    "colab": {},
    "colab_type": "code",
    "id": "_E-ohPW8TstH"
   },
   "outputs": [],
   "source": [
    "dd = np.concatenate((d,d), axis=0)"
   ]
  },
  {
   "cell_type": "code",
   "execution_count": null,
   "metadata": {
    "colab": {
     "base_uri": "https://localhost:8080/",
     "height": 35
    },
    "colab_type": "code",
    "executionInfo": {
     "elapsed": 367,
     "status": "ok",
     "timestamp": 1597078718712,
     "user": {
      "displayName": "oscar julian perdomo charry",
      "photoUrl": "https://lh3.googleusercontent.com/a-/AOh14Gj50GKHE5azeLasCIdHHvJyKbb-J9QYQYnhmZmjUmY=s64",
      "userId": "00703697915370109039"
     },
     "user_tz": 300
    },
    "id": "JAvRh2u9Ts8N",
    "outputId": "9d41492e-ab14-423e-d91a-076565f75576"
   },
   "outputs": [
    {
     "data": {
      "text/plain": [
       "array([1, 2, 3, 1, 2, 3])"
      ]
     },
     "execution_count": 23,
     "metadata": {
      "tags": []
     },
     "output_type": "execute_result"
    }
   ],
   "source": [
    "dd"
   ]
  },
  {
   "cell_type": "markdown",
   "metadata": {
    "colab_type": "text",
    "id": "xTwj-uWlhHN9"
   },
   "source": [
    "## 2. Celdas de Texto\n",
    "\n",
    "* Editar con **doble-click**. \n",
    "\n",
    "  * Más información al respecto [markdownguide](/notebooks/markdown_guide.ipynb).[texto del enlace](https://)\n",
    "\n",
    "1.   Elemento de lista\n",
    "\n",
    "*   Elemento de lista\n",
    "\n",
    "---\n",
    "\n",
    "\n",
    "*   Elemento de lista\n",
    "\n",
    "\n",
    "2.   Elemento de lista\n",
    "\n",
    "\n",
    "\n",
    "* Las fórmulas se escriben\n",
    "$\\sqrt{2x*\\alpha}+(x)^2.$\n",
    "\n",
    "5\n",
    "\n",
    "$5$\n"
   ]
  },
  {
   "cell_type": "markdown",
   "metadata": {
    "colab_type": "text",
    "id": "ZAP9OG_Talnw"
   },
   "source": [
    "### Instalación de paquetes"
   ]
  },
  {
   "cell_type": "code",
   "execution_count": null,
   "metadata": {
    "colab": {
     "base_uri": "https://localhost:8080/",
     "height": 319
    },
    "colab_type": "code",
    "executionInfo": {
     "elapsed": 397,
     "status": "error",
     "timestamp": 1597078993068,
     "user": {
      "displayName": "oscar julian perdomo charry",
      "photoUrl": "https://lh3.googleusercontent.com/a-/AOh14Gj50GKHE5azeLasCIdHHvJyKbb-J9QYQYnhmZmjUmY=s64",
      "userId": "00703697915370109039"
     },
     "user_tz": 300
    },
    "id": "5wqbPXdYUrn3",
    "outputId": "7ef398fc-0711-4b93-e61d-85e611fda783"
   },
   "outputs": [
    {
     "ename": "ModuleNotFoundError",
     "evalue": "ignored",
     "output_type": "error",
     "traceback": [
      "\u001b[0;31m---------------------------------------------------------------------------\u001b[0m",
      "\u001b[0;31mModuleNotFoundError\u001b[0m                       Traceback (most recent call last)",
      "\u001b[0;32m<ipython-input-25-cd61f1399c2b>\u001b[0m in \u001b[0;36m<module>\u001b[0;34m()\u001b[0m\n\u001b[0;32m----> 1\u001b[0;31m \u001b[0;32mimport\u001b[0m \u001b[0mpydicom\u001b[0m \u001b[0;31m# Paquete de python para lectura y escritura de archivos médicos DICOM\u001b[0m\u001b[0;34m\u001b[0m\u001b[0;34m\u001b[0m\u001b[0m\n\u001b[0m",
      "\u001b[0;31mModuleNotFoundError\u001b[0m: No module named 'pydicom'",
      "",
      "\u001b[0;31m---------------------------------------------------------------------------\u001b[0;32m\nNOTE: If your import is failing due to a missing package, you can\nmanually install dependencies using either !pip or !apt.\n\nTo view examples of installing some common dependencies, click the\n\"Open Examples\" button below.\n\u001b[0;31m---------------------------------------------------------------------------\u001b[0m\n"
     ]
    }
   ],
   "source": [
    "import pydicom # Paquete de python para lectura y escritura de archivos médicos DICOM"
   ]
  },
  {
   "cell_type": "markdown",
   "metadata": {
    "colab_type": "text",
    "id": "28jruLu1U6_4"
   },
   "source": [
    "[Pydicom](https://pypi.org/project/pydicom/)"
   ]
  },
  {
   "cell_type": "code",
   "execution_count": null,
   "metadata": {
    "colab": {
     "base_uri": "https://localhost:8080/",
     "height": 129
    },
    "colab_type": "code",
    "executionInfo": {
     "elapsed": 10948,
     "status": "ok",
     "timestamp": 1597079064210,
     "user": {
      "displayName": "oscar julian perdomo charry",
      "photoUrl": "https://lh3.googleusercontent.com/a-/AOh14Gj50GKHE5azeLasCIdHHvJyKbb-J9QYQYnhmZmjUmY=s64",
      "userId": "00703697915370109039"
     },
     "user_tz": 300
    },
    "id": "5mlqQmFDa0KX",
    "outputId": "2caa87e7-ea75-4078-ddf1-9b446b4409c8"
   },
   "outputs": [
    {
     "name": "stdout",
     "output_type": "stream",
     "text": [
      "Collecting pydicom\n",
      "\u001b[?25l  Downloading https://files.pythonhosted.org/packages/d3/56/342e1f8ce5afe63bf65c23d0b2c1cd5a05600caad1c211c39725d3a4cc56/pydicom-2.0.0-py3-none-any.whl (35.4MB)\n",
      "\u001b[K     |████████████████████████████████| 35.5MB 120kB/s \n",
      "\u001b[?25hInstalling collected packages: pydicom\n",
      "Successfully installed pydicom-2.0.0\n"
     ]
    }
   ],
   "source": [
    "!pip install pydicom"
   ]
  },
  {
   "cell_type": "code",
   "execution_count": null,
   "metadata": {
    "colab": {
     "base_uri": "https://localhost:8080/",
     "height": 1000
    },
    "colab_type": "code",
    "executionInfo": {
     "elapsed": 432,
     "status": "ok",
     "timestamp": 1597079963141,
     "user": {
      "displayName": "oscar julian perdomo charry",
      "photoUrl": "https://lh3.googleusercontent.com/a-/AOh14Gj50GKHE5azeLasCIdHHvJyKbb-J9QYQYnhmZmjUmY=s64",
      "userId": "00703697915370109039"
     },
     "user_tz": 300
    },
    "id": "dRBQVroAXiaY",
    "outputId": "0c1443b6-0165-4cff-daf6-170d66573725"
   },
   "outputs": [
    {
     "name": "stdout",
     "output_type": "stream",
     "text": [
      "Dataset.file_meta -------------------------------\n",
      "(0002, 0000) File Meta Information Group Length  UL: 192\n",
      "(0002, 0001) File Meta Information Version       OB: b'\\x00\\x01'\n",
      "(0002, 0002) Media Storage SOP Class UID         UI: CT Image Storage\n",
      "(0002, 0003) Media Storage SOP Instance UID      UI: 1.3.6.1.4.1.5962.1.1.1.1.1.20040119072730.12322\n",
      "(0002, 0010) Transfer Syntax UID                 UI: Explicit VR Little Endian\n",
      "(0002, 0012) Implementation Class UID            UI: 1.3.6.1.4.1.5962.2\n",
      "(0002, 0013) Implementation Version Name         SH: 'DCTOOL100'\n",
      "(0002, 0016) Source Application Entity Title     AE: 'CLUNIE1'\n",
      "-------------------------------------------------\n",
      "(0008, 0005) Specific Character Set              CS: 'ISO_IR 100'\n",
      "(0008, 0008) Image Type                          CS: ['ORIGINAL', 'PRIMARY', 'AXIAL']\n",
      "(0008, 0012) Instance Creation Date              DA: '20040119'\n",
      "(0008, 0013) Instance Creation Time              TM: '072731'\n",
      "(0008, 0014) Instance Creator UID                UI: 1.3.6.1.4.1.5962.3\n",
      "(0008, 0016) SOP Class UID                       UI: CT Image Storage\n",
      "(0008, 0018) SOP Instance UID                    UI: 1.3.6.1.4.1.5962.1.1.1.1.1.20040119072730.12322\n",
      "(0008, 0020) Study Date                          DA: '20040119'\n",
      "(0008, 0021) Series Date                         DA: '19970430'\n",
      "(0008, 0022) Acquisition Date                    DA: '19970430'\n",
      "(0008, 0023) Content Date                        DA: '19970430'\n",
      "(0008, 0030) Study Time                          TM: '072730'\n",
      "(0008, 0031) Series Time                         TM: '112749'\n",
      "(0008, 0032) Acquisition Time                    TM: '112936'\n",
      "(0008, 0033) Content Time                        TM: '113008'\n",
      "(0008, 0050) Accession Number                    SH: ''\n",
      "(0008, 0060) Modality                            CS: 'CT'\n",
      "(0008, 0070) Manufacturer                        LO: 'GE MEDICAL SYSTEMS'\n",
      "(0008, 0080) Institution Name                    LO: 'JFK IMAGING CENTER'\n",
      "(0008, 0090) Referring Physician's Name          PN: ''\n",
      "(0008, 0201) Timezone Offset From UTC            SH: '-0500'\n",
      "(0008, 1010) Station Name                        SH: 'CT01_OC0'\n",
      "(0008, 1030) Study Description                   LO: 'e+1'\n",
      "(0008, 1090) Manufacturer's Model Name           LO: 'RHAPSODE'\n",
      "(0009, 0010) Private Creator                     LO: 'GEMS_IDEN_01'\n",
      "(0009, 1001) [Full fidelity]                     LO: 'GE_GENESIS_FF'\n",
      "(0009, 1002) [Suite id]                          SH: 'CT01'\n",
      "(0009, 1004) [Product id]                        SH: 'HiSpeed CT/i'\n",
      "(0009, 1027) [Image actual date]                 SL: 862399669\n",
      "(0009, 1030) [Service id]                        SH: ''\n",
      "(0009, 1031) [Mobile location number]            SH: ''\n",
      "(0009, 10e6) [Genesis Version - now]             SH: '05'\n",
      "(0009, 10e7) [Exam Record checksum]              UL: 973283917\n",
      "(0009, 10e9) [Actual series data time stamp]     SL: 862399669\n",
      "(0010, 0010) Patient's Name                      PN: 'CompressedSamples^CT1'\n",
      "(0010, 0020) Patient ID                          LO: '1CT1'\n",
      "(0010, 0030) Patient's Birth Date                DA: ''\n",
      "(0010, 0040) Patient's Sex                       CS: 'O'\n",
      "(0010, 1002)  Other Patient IDs Sequence   2 item(s) ---- \n",
      "   (0010, 0020) Patient ID                          LO: 'ABCD1234'\n",
      "   (0010, 0022) Type of Patient ID                  CS: 'TEXT'\n",
      "   ---------\n",
      "   (0010, 0020) Patient ID                          LO: '1234ABCD'\n",
      "   (0010, 0022) Type of Patient ID                  CS: 'TEXT'\n",
      "   ---------\n",
      "(0010, 1010) Patient's Age                       AS: '000Y'\n",
      "(0010, 1030) Patient's Weight                    DS: \"0.0\"\n",
      "(0010, 21b0) Additional Patient History          LT: ''\n",
      "(0011, 0010) Private Creator                     LO: 'GEMS_PATI_01'\n",
      "(0011, 1010) [Patient Status]                    SS: 0\n",
      "(0018, 0010) Contrast/Bolus Agent                LO: 'ISOVUE300/100'\n",
      "(0018, 0022) Scan Options                        CS: 'HELICAL MODE'\n",
      "(0018, 0050) Slice Thickness                     DS: \"5.0\"\n",
      "(0018, 0060) KVP                                 DS: \"120.0\"\n",
      "(0018, 0088) Spacing Between Slices              DS: \"5.0\"\n",
      "(0018, 0090) Data Collection Diameter            DS: \"480.0\"\n",
      "(0018, 1020) Software Versions                   LO: '05'\n",
      "(0018, 1040) Contrast/Bolus Route                LO: 'IV'\n",
      "(0018, 1100) Reconstruction Diameter             DS: \"338.6716\"\n",
      "(0018, 1110) Distance Source to Detector         DS: \"1099.3100585938\"\n",
      "(0018, 1111) Distance Source to Patient          DS: \"630.0\"\n",
      "(0018, 1120) Gantry/Detector Tilt                DS: \"0.0\"\n",
      "(0018, 1130) Table Height                        DS: \"133.699997\"\n",
      "(0018, 1150) Exposure Time                       IS: \"1601\"\n",
      "(0018, 1151) X-Ray Tube Current                  IS: \"170\"\n",
      "(0018, 1152) Exposure                            IS: \"170\"\n",
      "(0018, 1160) Filter Type                         SH: 'LARGE BOWTIE FIL'\n",
      "(0018, 1190) Focal Spot(s)                       DS: \"0.7\"\n",
      "(0018, 1210) Convolution Kernel                  SH: 'STANDARD'\n",
      "(0018, 5100) Patient Position                    CS: 'FFS'\n",
      "(0019, 0010) Private Creator                     LO: 'GEMS_ACQU_01'\n",
      "(0019, 1002) [Detector Channel]                  SL: 912\n",
      "(0019, 1003) [Cell number at Theta]              DS: \"373.75\"\n",
      "(0019, 1004) [Cell spacing]                      DS: \"1.0166\"\n",
      "(0019, 100f) [Horiz. Frame of ref.]              DS: \"955.799988\"\n",
      "(0019, 1011) [Series contrast]                   SS: 2\n",
      "(0019, 1013) [Start number for baseline]         SS: 0\n",
      "(0019, 1014) [End number for baseline]           SS: 0\n",
      "(0019, 1015) [Start number for enhanced scans]   SS: 0\n",
      "(0019, 1016) [End number for enhanced scans]     SS: 0\n",
      "(0019, 1017) [Series plane]                      SS: 2\n",
      "(0019, 1018) [First scan ras]                    LO: 'S'\n",
      "(0019, 1019) [First scan location]               DS: \"7.79187\"\n",
      "(0019, 101a) [Last scan ras]                     LO: 'I'\n",
      "(0019, 101b) [Last scan loc]                     DS: \"-320.197968\"\n",
      "(0019, 101e) [Display field of view]             DS: \"0.0\"\n",
      "(0019, 1023) [Table Speed [mm/rotation]]         DS: \"5.0\"\n",
      "(0019, 1024) [Mid Scan Time [sec]]               DS: \"17.784578\"\n",
      "(0019, 1025) [Mid scan flag]                     SS: 1\n",
      "(0019, 1026) [Tube Azimuth [degree]]             SL: 0\n",
      "(0019, 1027) [Rotation Speed [msec]]             DS: \"1.0\"\n",
      "(0019, 102a) [x-ray On position]                 DS: \"178.079926\"\n",
      "(0019, 102b) [x-ray Off position]                DS: \"3994.299316\"\n",
      "(0019, 102c) [Number of triggers]                SL: 10431\n",
      "(0019, 102e) [Angle of first view]               DS: \"-718.079956\"\n",
      "(0019, 102f) [Trigger frequency]                 DS: \"984.0\"\n",
      "(0019, 1039) [SFOV Type]                         SS: 16\n",
      "(0019, 1040) [Stat recon flag]                   SS: 0\n",
      "(0019, 1041) [Compute type]                      SS: 1\n",
      "(0019, 1042) [Segment Number]                    SS: 0\n",
      "(0019, 1043) [Total Segments Required]           SS: 0\n",
      "(0019, 1044) [Interscan delay]                   DS: \"1.0\"\n",
      "(0019, 1047) [View compression factor]           SS: 1\n",
      "(0019, 104a) [Total no. of ref channels]         SS: 6\n",
      "(0019, 104b) [Data size for scan data]           SL: 10431\n",
      "(0019, 1052) [Recon post proc. Flag]             SS: 1\n",
      "(0019, 1057) [CT water number]                   SS: -95\n",
      "(0019, 1058) [CT bone number]                    SS: 0\n",
      "(0019, 105e) [Number of channels (1...512)]      SL: 763\n",
      "(0019, 105f) [Increment between channels]        SL: 1\n",
      "(0019, 1060) [Starting view]                     SL: 1969\n",
      "(0019, 1061) [Number of views]                   SL: 1576\n",
      "(0019, 1062) [Increment between views]           SL: 1\n",
      "(0019, 106a) [Dependent on #views processed]     SS: 4\n",
      "(0019, 106b) [Field of view in detector cells]   SS: 852\n",
      "(0019, 1070) [Value of back projection button]   SS: 1\n",
      "(0019, 1071) [Set if fatq estimates were used]   SS: 0\n",
      "(0019, 1072) [Z chan avg over views]             DS: \"0.0\"\n",
      "(0019, 1073) [Avg of left ref chans over views]  DS: \"0.0\"\n",
      "(0019, 1074) [Max left chan over views]          DS: \"0.0\"\n",
      "(0019, 1075) [Avg of right ref chans over views] DS: \"0.0\"\n",
      "(0019, 1076) [Max right chan over views]         DS: \"0.0\"\n",
      "(0019, 10da) [Reference channel used]            SS: 0\n",
      "(0019, 10db) [Back projector coefficient]        DS: \"0.0\"\n",
      "(0019, 10dc) [Primary speed correction used]     SS: 1\n",
      "(0019, 10dd) [Overrange correction used]         SS: 1\n",
      "(0019, 10de) [Dynamic Z alpha value]             DS: \"0.0\"\n",
      "(0020, 000d) Study Instance UID                  UI: 1.3.6.1.4.1.5962.1.2.1.20040119072730.12322\n",
      "(0020, 000e) Series Instance UID                 UI: 1.3.6.1.4.1.5962.1.3.1.1.20040119072730.12322\n",
      "(0020, 0010) Study ID                            SH: '1CT1'\n",
      "(0020, 0011) Series Number                       IS: \"1\"\n",
      "(0020, 0012) Acquisition Number                  IS: \"2\"\n",
      "(0020, 0013) Instance Number                     IS: \"1\"\n",
      "(0020, 0032) Image Position (Patient)            DS: [-158.135803, -179.035797, -75.699997]\n",
      "(0020, 0037) Image Orientation (Patient)         DS: [1.000000, 0.000000, 0.000000, 0.000000, 1.000000, 0.000000]\n",
      "(0020, 0052) Frame of Reference UID              UI: 1.3.6.1.4.1.5962.1.4.1.1.20040119072730.12322\n",
      "(0020, 0060) Laterality                          CS: ''\n",
      "(0020, 1040) Position Reference Indicator        LO: 'SN'\n",
      "(0020, 1041) Slice Location                      DS: \"-77.2040634155\"\n",
      "(0020, 4000) Image Comments                      LT: 'Uncompressed'\n",
      "(0021, 0010) Private Creator                     LO: 'GEMS_RELA_01'\n",
      "(0021, 1003) [Series from which Prescribed]      SS: 2\n",
      "(0021, 1005) [Genesis Version - now]             SH: '05'\n",
      "(0021, 1007) [Series Record checksum]            UL: 1605775145\n",
      "(0021, 1015) [Unknown]                           US: 24078\n",
      "(0021, 1016) [Unknown]                           SS: 2\n",
      "(0021, 1018) [Genesis version - Now]             SH: '05'\n",
      "(0021, 1019) [Acq recon record checksum]         UL: 750675506\n",
      "(0021, 1037) [Screen Format]                     SS: 16\n",
      "(0021, 104a) [Anatomical reference for scout]    LO: ''\n",
      "(0021, 1090) [Tube focal spot position]          SS: 7400\n",
      "(0021, 1091) [Biopsy position]                   SS: 0\n",
      "(0021, 1092) [Biopsy T location]                 FL: 0.0\n",
      "(0021, 1093) [Biopsy ref location]               FL: 0.0\n",
      "(0023, 0010) Private Creator                     LO: 'GEMS_STDY_01'\n",
      "(0023, 1070) [Start time(secs) in first axial]   FD: 862399761.111079\n",
      "(0023, 1074) [No. of updates to header]          SL: 1\n",
      "(0023, 107d) [Indicates study has complete info  SS: 0\n",
      "(0025, 0010) Private Creator                     LO: 'GEMS_SERS_01'\n",
      "(0025, 1006) [Last pulse sequence used]          SS: 0\n",
      "(0025, 1007) [Images in Series]                  SL: 44\n",
      "(0025, 1010) [Landmark Counter]                  SL: 0\n",
      "(0025, 1011) [Number of Acquisitions]            SS: 0\n",
      "(0025, 1017) [Series Complete Flag]              SL: 0\n",
      "(0025, 1018) [Number of images archived]         SL: 0\n",
      "(0025, 1019) [Last image number used]            SL: 4\n",
      "(0025, 101a) [Primary Receiver Suite and Host]   SH: ''\n",
      "(0027, 0010) Private Creator                     LO: 'GEMS_IMAG_01'\n",
      "(0027, 1006) [Image archive flag]                SL: 1\n",
      "(0027, 1010) [Scout Type]                        SS: 0\n",
      "(0027, 101c) [Vma mamp]                          SL: 150\n",
      "(0027, 101d) [Vma phase]                         SS: 1\n",
      "(0027, 101e) [Vma mod]                           SL: 24\n",
      "(0027, 101f) [Vma clip]                          SL: 129\n",
      "(0027, 1020) [Smart scan ON/OFF flag]            SS: 1\n",
      "(0027, 1030) [Foreign Image Revision]            SH: ''\n",
      "(0027, 1035) [Plane Type]                        SS: 2\n",
      "(0027, 1040) [RAS letter of image location]      SH: 'I'\n",
      "(0027, 1041) [Image location]                    FL: -77.20406341552734\n",
      "(0027, 1042) [Center R coord of plane image]     FL: -11.199999809265137\n",
      "(0027, 1043) [Center A coord of plane image]     FL: 9.699999809265137\n",
      "(0027, 1044) [Center S coord of plane image]     FL: -75.69999694824219\n",
      "(0027, 1045) [Normal R coord]                    FL: 0.0\n",
      "(0027, 1046) [Normal A coord]                    FL: 0.0\n",
      "(0027, 1047) [Normal S coord]                    FL: -1.0\n",
      "(0027, 1048) [R Coord of Top Right Corner]       FL: -180.53579711914062\n",
      "(0027, 1049) [A Coord of Top Right Corner]       FL: 179.03579711914062\n",
      "(0027, 104a) [S Coord of Top Right Corner]       FL: -75.69999694824219\n",
      "(0027, 104b) [R Coord of Bottom Right Corner]    FL: -180.53579711914062\n",
      "(0027, 104c) [A Coord of Bottom Right Corner]    FL: -159.63580322265625\n",
      "(0027, 104d) [S Coord of Bottom Right Corner]    FL: -75.69999694824219\n",
      "(0027, 1050) [Scan Start Location]               FL: -63.19999694824219\n",
      "(0027, 1051) [Scan End Location]                 FL: -116.20304870605469\n",
      "(0027, 1052) [RAS letter for side of image]      SH: 'L'\n",
      "(0027, 1053) [RAS letter for anterior/posterior] SH: 'A'\n",
      "(0027, 1054) [RAS letter for scout start loc]    SH: 'I'\n",
      "(0027, 1055) [RAS letter for scout end loc]      SH: 'I'\n",
      "(0028, 0002) Samples per Pixel                   US: 1\n",
      "(0028, 0004) Photometric Interpretation          CS: 'MONOCHROME2'\n",
      "(0028, 0010) Rows                                US: 128\n",
      "(0028, 0011) Columns                             US: 128\n",
      "(0028, 0030) Pixel Spacing                       DS: [0.661468, 0.661468]\n",
      "(0028, 0100) Bits Allocated                      US: 16\n",
      "(0028, 0101) Bits Stored                         US: 16\n",
      "(0028, 0102) High Bit                            US: 15\n",
      "(0028, 0103) Pixel Representation                US: 1\n",
      "(0028, 0120) Pixel Padding Value                 SS: -2000\n",
      "(0028, 1052) Rescale Intercept                   DS: \"-1024.0\"\n",
      "(0028, 1053) Rescale Slope                       DS: \"1.0\"\n",
      "(0029, 0010) Private Creator                     LO: 'GEMS_IMPS_01'\n",
      "(0029, 1004) [Lower range of Pixels1]            SL: 0\n",
      "(0029, 1005) [Lower range of Pixels1]            DS: \"0.0\"\n",
      "(0029, 1006) [Lower range of Pixels1]            DS: \"0.0\"\n",
      "(0029, 1007) [Lower range of Pixels1]            SL: 87\n",
      "(0029, 1008) [Lower range of Pixels1]            SH: ''\n",
      "(0029, 1009) [Lower range of Pixels1]            SH: ''\n",
      "(0029, 100a) [Lower range of Pixels1]            SS: 764\n",
      "(0029, 1026) [Version of the hdr struct]         SS: 2\n",
      "(0029, 1034) [Advantage comp. Overflow]          SL: 0\n",
      "(0029, 1035) [Advantage comp. Underflow]         SL: 0\n",
      "(0043, 0010) Private Creator                     LO: 'GEMS_PARM_01'\n",
      "(0043, 1010) [Window value]                      US: 400\n",
      "(0043, 1011) [Total input views]                 US: 10431\n",
      "(0043, 1012) [X-ray chain]                       SS: [14, 2, 3]\n",
      "(0043, 1013) [Decon kernel parameters]           SS: [107, 21, 4, 2, 20]\n",
      "(0043, 1014) [Calibration parameters]            SS: [4, 4, 5]\n",
      "(0043, 1015) [Total output views]                SS: 10431\n",
      "(0043, 1016) [Number of overranges]              SS: 0\n",
      "(0043, 1017) [IBH image scale factors]           DS: \"0.095\"\n",
      "(0043, 1018) [BBH coefficients]                  DS: [0.085000, 1.102000, 0.095000]\n",
      "(0043, 1019) [Number of BBH chains to blend]     SS: 350\n",
      "(0043, 101a) [Starting channel number]           SL: 7\n",
      "(0043, 101b) [Ppscan parameters]                 SS: [0, 0, 0, 0, 0]\n",
      "(0043, 101c) [GE image integrity]                SS: 0\n",
      "(0043, 101d) [Level value]                       SS: 40\n",
      "(0043, 101e) [Delta Start Time [msec]]           DS: \"2.0\"\n",
      "(0043, 101f) [Max overranges in a view]          SL: 0\n",
      "(0043, 1020) [Avg overranges all views]          DS: \"0.0\"\n",
      "(0043, 1021) [Corrected after glow terms]        SS: 0\n",
      "(0043, 1025) [Reference channels]                SS: [1, 2, 3, 748, 749, 750]\n",
      "(0043, 1026) [No views ref chans blocked]        US: [0, 1, 1, 0, 0, 0]\n",
      "(0043, 1027) [Scan Pitch Ratio]                  SH: '/1.0:1'\n",
      "(0043, 1028) [Unique image iden]                 OB: Array of 80 elements\n",
      "(0043, 1029) [Histogram tables]                  OB: Array of 2068 elements\n",
      "(0043, 102a) [User defined data]                 OB: Array of 40 elements\n",
      "(0043, 102b) [Private Scan Options]              SS: [4, 4, 0, 0]\n",
      "(0043, 1031) [Recon Center Coordinates]          DS: [-11.200000, 9.700000]\n",
      "(0043, 1040) [Trigger on position]               FL: 178.07992553710938\n",
      "(0043, 1041) [Degree of rotation]                FL: 3816.219482421875\n",
      "(0043, 1042) [DAS trigger source]                SL: 0\n",
      "(0043, 1043) [DAS fpa gain]                      SL: 0\n",
      "(0043, 1044) [DAS output source]                 SL: 1\n",
      "(0043, 1045) [DAS ad input]                      SL: 1\n",
      "(0043, 1046) [DAS cal mode]                      SL: 3\n",
      "(0043, 1047) [DAS cal frequency]                 SL: -1\n",
      "(0043, 1048) [DAS reg xm]                        SL: 1\n",
      "(0043, 1049) [DAS auto zero]                     SL: 0\n",
      "(0043, 104a) [Starting channel of view]          SS: 1\n",
      "(0043, 104b) [DAS xm pattern]                    SL: 0\n",
      "(0043, 104c) [TGGC trigger mode]                 SS: 0\n",
      "(0043, 104d) [Start scan to X-ray on delay]      FL: 0.0\n",
      "(0043, 104e) [Duration of X-ray on]              FL: 10.60060977935791\n",
      "(7fe0, 0010) Pixel Data                          OW: Array of 32768 elements\n",
      "(fffc, fffc) Data Set Trailing Padding           OB: Array of 126 elements\n"
     ]
    }
   ],
   "source": [
    "import matplotlib.pyplot as plt\n",
    "from pydicom import dcmread\n",
    "from pydicom.data import get_testdata_file\n",
    "#Cargando un archivo de Tomografía Computarizada\n",
    "fpath = get_testdata_file('CT_small.dcm')\n",
    "ds = dcmread(fpath)\n",
    "print(ds)"
   ]
  },
  {
   "cell_type": "code",
   "execution_count": null,
   "metadata": {
    "colab": {
     "base_uri": "https://localhost:8080/",
     "height": 470
    },
    "colab_type": "code",
    "executionInfo": {
     "elapsed": 784,
     "status": "ok",
     "timestamp": 1597080819294,
     "user": {
      "displayName": "oscar julian perdomo charry",
      "photoUrl": "https://lh3.googleusercontent.com/a-/AOh14Gj50GKHE5azeLasCIdHHvJyKbb-J9QYQYnhmZmjUmY=s64",
      "userId": "00703697915370109039"
     },
     "user_tz": 300
    },
    "id": "IVDOdVw3V0e9",
    "outputId": "4889e7d8-a042-4ed6-fdcc-00ead8feaec5"
   },
   "outputs": [
    {
     "name": "stdout",
     "output_type": "stream",
     "text": [
      "\n",
      "File path........: /usr/local/lib/python3.6/dist-packages/pydicom/data/test_files/CT_small.dcm\n",
      "SOP Class........: 1.2.840.10008.5.1.4.1.1.2 (CT Image Storage)\n",
      "\n",
      "Patient's Name...: CompressedSamples, CT1\n",
      "Patient ID.......: 1CT1\n",
      "Modality.........: CT\n",
      "Study Date.......: 20040119\n",
      "Image size.......: 128 x 128\n",
      "Pixel Spacing....: [0.661468, 0.661468]\n",
      "Slice location...: -77.2040634155\n"
     ]
    },
    {
     "data": {
      "image/png": "[encoded data removed]",
      "text/plain": [
       "<Figure size 432x288 with 1 Axes>"
      ]
     },
     "metadata": {
      "needs_background": "light",
      "tags": []
     },
     "output_type": "display_data"
    }
   ],
   "source": [
    "#Imprimiendo los datos más relevantes\n",
    "print()\n",
    "print(f\"File path........: {fpath}\")\n",
    "print(f\"SOP Class........: {ds.SOPClassUID} ({ds.SOPClassUID.name})\")\n",
    "print()\n",
    "\n",
    "pat_name = ds.PatientName\n",
    "display_name = pat_name.family_name + \", \" + pat_name.given_name\n",
    "print(f\"Patient's Name...: {display_name}\")\n",
    "print(f\"Patient ID.......: {ds.PatientID}\")\n",
    "print(f\"Modality.........: {ds.Modality}\")\n",
    "print(f\"Study Date.......: {ds.StudyDate}\")\n",
    "print(f\"Image size.......: {ds.Rows} x {ds.Columns}\")\n",
    "print(f\"Pixel Spacing....: {ds.PixelSpacing}\")\n",
    "print(f\"Slice location...: {ds.get('SliceLocation', '(missing)')}\")\n",
    "\n",
    "# Graficando la información contenida en el archivo\n",
    "plt.imshow(ds.pixel_array, cmap=plt.cm.gray)\n",
    "plt.show()"
   ]
  },
  {
   "cell_type": "markdown",
   "metadata": {
    "colab_type": "text",
    "id": "d4eoKMeQbRDe"
   },
   "source": [
    "### **Preguntas**\n",
    "\n",
    "<img src=\"https://images7.memedroid.com/images/UPLOADED944/5bf8973fa3e89.jpeg\" \n",
    "width=\"400\" height=\"700\">"
   ]
  },
  {
   "cell_type": "markdown",
   "metadata": {
    "colab_type": "text",
    "id": "atKuYwbYDXzK"
   },
   "source": [
    "# Uso de datos con igual estadística diferente gráfico"
   ]
  },
  {
   "cell_type": "markdown",
   "metadata": {
    "colab_type": "text",
    "id": "hhLsI9vApRY3"
   },
   "source": [
    "## Same Stats, Different Graphs: Generating Datasets with Varied Appearance and Identical Statistics through Simulated Annealing \n",
    "[Paper](https://damassets.autodesk.net/content/dam/autodesk/www/autodesk-reasearch/pdf/publications/Same%20Stats,%20Different%20Graphs%20Generating%20Datasets%20with%20Varied%20Appearance%20and%20Identical%20Statistics%20through%20Simulated%20Annealing.pdf)\n",
    "\n",
    "![alt text](https://pbs.twimg.com/media/DN4eF0GVAAEatTX?format=jpg&name=small)"
   ]
  },
  {
   "cell_type": "markdown",
   "metadata": {
    "colab_type": "text",
    "id": "AW3T9UPiIRVZ"
   },
   "source": [
    "## Videos"
   ]
  },
  {
   "cell_type": "code",
   "execution_count": null,
   "metadata": {
    "colab": {
     "base_uri": "https://localhost:8080/",
     "height": 321
    },
    "colab_type": "code",
    "executionInfo": {
     "elapsed": 381,
     "status": "ok",
     "timestamp": 1597159556146,
     "user": {
      "displayName": "oscar julian perdomo charry",
      "photoUrl": "https://lh3.googleusercontent.com/a-/AOh14Gj50GKHE5azeLasCIdHHvJyKbb-J9QYQYnhmZmjUmY=s64",
      "userId": "00703697915370109039"
     },
     "user_tz": 300
    },
    "id": "H15KXhZ7H9bA",
    "outputId": "d5a0bf8f-b238-4acc-fff1-a2b717fc4f41"
   },
   "outputs": [
    {
     "data": {
      "image/jpeg": "[encoded data removed]",
      "text/html": [
       "\n",
       "        <iframe\n",
       "            width=\"400\"\n",
       "            height=\"300\"\n",
       "            src=\"https://www.youtube.com/embed/DbJyPELmhJc\"\n",
       "            frameborder=\"0\"\n",
       "            allowfullscreen\n",
       "        ></iframe>\n",
       "        "
      ],
      "text/plain": [
       "<IPython.lib.display.YouTubeVideo at 0x7f030b237710>"
      ]
     },
     "execution_count": 32,
     "metadata": {
      "tags": []
     },
     "output_type": "execute_result"
    }
   ],
   "source": [
    "from IPython.display import YouTubeVideo\n",
    "YouTubeVideo('It4UA75z_KQ')"
   ]
  },
  {
   "cell_type": "code",
   "execution_count": null,
   "metadata": {
    "colab": {
     "base_uri": "https://localhost:8080/",
     "height": 321
    },
    "colab_type": "code",
    "executionInfo": {
     "elapsed": 368,
     "status": "ok",
     "timestamp": 1597159528733,
     "user": {
      "displayName": "oscar julian perdomo charry",
      "photoUrl": "https://lh3.googleusercontent.com/a-/AOh14Gj50GKHE5azeLasCIdHHvJyKbb-J9QYQYnhmZmjUmY=s64",
      "userId": "00703697915370109039"
     },
     "user_tz": 300
    },
    "id": "-ih6ptFTHuae",
    "outputId": "4504f672-00ff-4505-9f4b-5a937f2f66d5"
   },
   "outputs": [
    {
     "data": {
      "image/jpeg": "[encoded data removed]",
      "text/html": [
       "\n",
       "        <iframe\n",
       "            width=\"400\"\n",
       "            height=\"300\"\n",
       "            src=\"https://www.youtube.com/embed/DbJyPELmhJc\"\n",
       "            frameborder=\"0\"\n",
       "            allowfullscreen\n",
       "        ></iframe>\n",
       "        "
      ],
      "text/plain": [
       "<IPython.lib.display.YouTubeVideo at 0x7f030adf1c88>"
      ]
     },
     "execution_count": 29,
     "metadata": {
      "tags": []
     },
     "output_type": "execute_result"
    }
   ],
   "source": [
    "from IPython.display import YouTubeVideo\n",
    "YouTubeVideo('DbJyPELmhJc')"
   ]
  },
  {
   "cell_type": "markdown",
   "metadata": {
    "colab_type": "text",
    "id": "eU67KJAaIUUc"
   },
   "source": [
    "## Manos a los datos!!!"
   ]
  },
  {
   "cell_type": "code",
   "execution_count": null,
   "metadata": {
    "colab": {
     "base_uri": "https://localhost:8080/",
     "height": 35
    },
    "colab_type": "code",
    "executionInfo": {
     "elapsed": 1331,
     "status": "ok",
     "timestamp": 1579869010629,
     "user": {
      "displayName": "oscar julian perdomo charry",
      "photoUrl": "https://lh3.googleusercontent.com/a-/AAuE7mDCR8KdkavNi4sr7iKTsQ5jxTex8zi9vkMJGatjOg=s64",
      "userId": "00703697915370109039"
     },
     "user_tz": 300
    },
    "id": "6qXmt6JDtIke",
    "outputId": "74b7962d-7e07-4a8f-deb0-451f2aa288d5"
   },
   "outputs": [
    {
     "name": "stdout",
     "output_type": "stream",
     "text": [
      "AnscombeAndDatasaurusDataset.xlsx  sample_data\n"
     ]
    }
   ],
   "source": [
    "# Descargar los datos de: https://docs.google.com/spreadsheets/d/1XSQtxSZ-1OvwPCjEheVhuccgyEe9PXv8f7u7-X-Ed9Y/edit#gid=0"
   ]
  },
  {
   "cell_type": "code",
   "execution_count": null,
   "metadata": {
    "colab": {},
    "colab_type": "code",
    "id": "2MaMnVn_vV0S"
   },
   "outputs": [],
   "source": [
    "import pandas as pd #Librería para manejo y visualización de datos\n",
    "from matplotlib import pyplot as plt #Librería visualización de datos"
   ]
  },
  {
   "cell_type": "code",
   "execution_count": null,
   "metadata": {
    "colab": {
     "base_uri": "https://localhost:8080/",
     "height": 363
    },
    "colab_type": "code",
    "executionInfo": {
     "elapsed": 482,
     "status": "ok",
     "timestamp": 1597158811221,
     "user": {
      "displayName": "oscar julian perdomo charry",
      "photoUrl": "https://lh3.googleusercontent.com/a-/AOh14Gj50GKHE5azeLasCIdHHvJyKbb-J9QYQYnhmZmjUmY=s64",
      "userId": "00703697915370109039"
     },
     "user_tz": 300
    },
    "id": "B-0WEYnUsgv3",
    "outputId": "ac5c2c5d-b193-4504-8abf-0ac29f4f77ad"
   },
   "outputs": [
    {
     "data": {
      "text/html": [
       "<div>\n",
       "<style scoped>\n",
       "    .dataframe tbody tr th:only-of-type {\n",
       "        vertical-align: middle;\n",
       "    }\n",
       "\n",
       "    .dataframe tbody tr th {\n",
       "        vertical-align: top;\n",
       "    }\n",
       "\n",
       "    .dataframe thead th {\n",
       "        text-align: right;\n",
       "    }\n",
       "</style>\n",
       "<table border=\"1\" class=\"dataframe\">\n",
       "  <thead>\n",
       "    <tr style=\"text-align: right;\">\n",
       "      <th></th>\n",
       "      <th>Set</th>\n",
       "      <th>pointid</th>\n",
       "      <th>dataset</th>\n",
       "      <th>x</th>\n",
       "      <th>y</th>\n",
       "    </tr>\n",
       "  </thead>\n",
       "  <tbody>\n",
       "    <tr>\n",
       "      <th>0</th>\n",
       "      <td>Datasaurus Dozen</td>\n",
       "      <td>1</td>\n",
       "      <td>dino</td>\n",
       "      <td>55.3846</td>\n",
       "      <td>97.1795</td>\n",
       "    </tr>\n",
       "    <tr>\n",
       "      <th>1</th>\n",
       "      <td>Datasaurus Dozen</td>\n",
       "      <td>2</td>\n",
       "      <td>dino</td>\n",
       "      <td>51.5385</td>\n",
       "      <td>96.0256</td>\n",
       "    </tr>\n",
       "    <tr>\n",
       "      <th>2</th>\n",
       "      <td>Datasaurus Dozen</td>\n",
       "      <td>3</td>\n",
       "      <td>dino</td>\n",
       "      <td>46.1538</td>\n",
       "      <td>94.4872</td>\n",
       "    </tr>\n",
       "    <tr>\n",
       "      <th>3</th>\n",
       "      <td>Datasaurus Dozen</td>\n",
       "      <td>4</td>\n",
       "      <td>dino</td>\n",
       "      <td>42.8205</td>\n",
       "      <td>91.4103</td>\n",
       "    </tr>\n",
       "    <tr>\n",
       "      <th>4</th>\n",
       "      <td>Datasaurus Dozen</td>\n",
       "      <td>5</td>\n",
       "      <td>dino</td>\n",
       "      <td>40.7692</td>\n",
       "      <td>88.3333</td>\n",
       "    </tr>\n",
       "    <tr>\n",
       "      <th>5</th>\n",
       "      <td>Datasaurus Dozen</td>\n",
       "      <td>6</td>\n",
       "      <td>dino</td>\n",
       "      <td>38.7179</td>\n",
       "      <td>84.8718</td>\n",
       "    </tr>\n",
       "    <tr>\n",
       "      <th>6</th>\n",
       "      <td>Datasaurus Dozen</td>\n",
       "      <td>7</td>\n",
       "      <td>dino</td>\n",
       "      <td>35.6410</td>\n",
       "      <td>79.8718</td>\n",
       "    </tr>\n",
       "    <tr>\n",
       "      <th>7</th>\n",
       "      <td>Datasaurus Dozen</td>\n",
       "      <td>8</td>\n",
       "      <td>dino</td>\n",
       "      <td>33.0769</td>\n",
       "      <td>77.5641</td>\n",
       "    </tr>\n",
       "    <tr>\n",
       "      <th>8</th>\n",
       "      <td>Datasaurus Dozen</td>\n",
       "      <td>9</td>\n",
       "      <td>dino</td>\n",
       "      <td>28.9744</td>\n",
       "      <td>74.4872</td>\n",
       "    </tr>\n",
       "    <tr>\n",
       "      <th>9</th>\n",
       "      <td>Datasaurus Dozen</td>\n",
       "      <td>10</td>\n",
       "      <td>dino</td>\n",
       "      <td>26.1538</td>\n",
       "      <td>71.4103</td>\n",
       "    </tr>\n",
       "  </tbody>\n",
       "</table>\n",
       "</div>"
      ],
      "text/plain": [
       "                Set  pointid dataset        x        y\n",
       "0  Datasaurus Dozen        1    dino  55.3846  97.1795\n",
       "1  Datasaurus Dozen        2    dino  51.5385  96.0256\n",
       "2  Datasaurus Dozen        3    dino  46.1538  94.4872\n",
       "3  Datasaurus Dozen        4    dino  42.8205  91.4103\n",
       "4  Datasaurus Dozen        5    dino  40.7692  88.3333\n",
       "5  Datasaurus Dozen        6    dino  38.7179  84.8718\n",
       "6  Datasaurus Dozen        7    dino  35.6410  79.8718\n",
       "7  Datasaurus Dozen        8    dino  33.0769  77.5641\n",
       "8  Datasaurus Dozen        9    dino  28.9744  74.4872\n",
       "9  Datasaurus Dozen       10    dino  26.1538  71.4103"
      ]
     },
     "execution_count": 3,
     "metadata": {
      "tags": []
     },
     "output_type": "execute_result"
    }
   ],
   "source": [
    "df = pd.read_excel('AnscombeAndDatasaurusDataset.xlsx')\n",
    "df.head(10)"
   ]
  },
  {
   "cell_type": "code",
   "execution_count": null,
   "metadata": {
    "colab": {
     "base_uri": "https://localhost:8080/",
     "height": 206
    },
    "colab_type": "code",
    "executionInfo": {
     "elapsed": 567,
     "status": "ok",
     "timestamp": 1597158813388,
     "user": {
      "displayName": "oscar julian perdomo charry",
      "photoUrl": "https://lh3.googleusercontent.com/a-/AOh14Gj50GKHE5azeLasCIdHHvJyKbb-J9QYQYnhmZmjUmY=s64",
      "userId": "00703697915370109039"
     },
     "user_tz": 300
    },
    "id": "9d3oRjfSwmGx",
    "outputId": "19095089-016f-4205-9be6-b79725b29b43"
   },
   "outputs": [
    {
     "data": {
      "text/html": [
       "<div>\n",
       "<style scoped>\n",
       "    .dataframe tbody tr th:only-of-type {\n",
       "        vertical-align: middle;\n",
       "    }\n",
       "\n",
       "    .dataframe tbody tr th {\n",
       "        vertical-align: top;\n",
       "    }\n",
       "\n",
       "    .dataframe thead th {\n",
       "        text-align: right;\n",
       "    }\n",
       "</style>\n",
       "<table border=\"1\" class=\"dataframe\">\n",
       "  <thead>\n",
       "    <tr style=\"text-align: right;\">\n",
       "      <th></th>\n",
       "      <th>Set</th>\n",
       "      <th>pointid</th>\n",
       "      <th>dataset</th>\n",
       "      <th>x</th>\n",
       "      <th>y</th>\n",
       "    </tr>\n",
       "  </thead>\n",
       "  <tbody>\n",
       "    <tr>\n",
       "      <th>1885</th>\n",
       "      <td>Anscombe Quartet</td>\n",
       "      <td>1886</td>\n",
       "      <td>Anscombe 4</td>\n",
       "      <td>8.0</td>\n",
       "      <td>5.25</td>\n",
       "    </tr>\n",
       "    <tr>\n",
       "      <th>1886</th>\n",
       "      <td>Anscombe Quartet</td>\n",
       "      <td>1887</td>\n",
       "      <td>Anscombe 4</td>\n",
       "      <td>19.0</td>\n",
       "      <td>12.50</td>\n",
       "    </tr>\n",
       "    <tr>\n",
       "      <th>1887</th>\n",
       "      <td>Anscombe Quartet</td>\n",
       "      <td>1888</td>\n",
       "      <td>Anscombe 4</td>\n",
       "      <td>8.0</td>\n",
       "      <td>5.56</td>\n",
       "    </tr>\n",
       "    <tr>\n",
       "      <th>1888</th>\n",
       "      <td>Anscombe Quartet</td>\n",
       "      <td>1889</td>\n",
       "      <td>Anscombe 4</td>\n",
       "      <td>8.0</td>\n",
       "      <td>7.91</td>\n",
       "    </tr>\n",
       "    <tr>\n",
       "      <th>1889</th>\n",
       "      <td>Anscombe Quartet</td>\n",
       "      <td>1890</td>\n",
       "      <td>Anscombe 4</td>\n",
       "      <td>8.0</td>\n",
       "      <td>6.89</td>\n",
       "    </tr>\n",
       "  </tbody>\n",
       "</table>\n",
       "</div>"
      ],
      "text/plain": [
       "                   Set  pointid     dataset     x      y\n",
       "1885  Anscombe Quartet     1886  Anscombe 4   8.0   5.25\n",
       "1886  Anscombe Quartet     1887  Anscombe 4  19.0  12.50\n",
       "1887  Anscombe Quartet     1888  Anscombe 4   8.0   5.56\n",
       "1888  Anscombe Quartet     1889  Anscombe 4   8.0   7.91\n",
       "1889  Anscombe Quartet     1890  Anscombe 4   8.0   6.89"
      ]
     },
     "execution_count": 4,
     "metadata": {
      "tags": []
     },
     "output_type": "execute_result"
    }
   ],
   "source": [
    "df.tail()"
   ]
  },
  {
   "cell_type": "code",
   "execution_count": null,
   "metadata": {
    "colab": {
     "base_uri": "https://localhost:8080/",
     "height": 90
    },
    "colab_type": "code",
    "executionInfo": {
     "elapsed": 628,
     "status": "ok",
     "timestamp": 1597158846121,
     "user": {
      "displayName": "oscar julian perdomo charry",
      "photoUrl": "https://lh3.googleusercontent.com/a-/AOh14Gj50GKHE5azeLasCIdHHvJyKbb-J9QYQYnhmZmjUmY=s64",
      "userId": "00703697915370109039"
     },
     "user_tz": 300
    },
    "id": "hUqBFBBRuJjv",
    "outputId": "48990e4e-0a97-4544-a233-9fcddf1609c7"
   },
   "outputs": [
    {
     "data": {
      "text/plain": [
       "array(['dino', 'away', 'h_lines', 'v_lines', 'x_shape', 'star',\n",
       "       'high_lines', 'dots', 'circle', 'bullseye', 'slant_up',\n",
       "       'slant_down', 'wide_lines', 'Anscombe 1', 'Anscombe 2',\n",
       "       'Anscombe 3', 'Anscombe 4'], dtype=object)"
      ]
     },
     "execution_count": 5,
     "metadata": {
      "tags": []
     },
     "output_type": "execute_result"
    }
   ],
   "source": [
    "# Analizando los subconjuntos de datos\n",
    "df['dataset'].unique()"
   ]
  },
  {
   "cell_type": "markdown",
   "metadata": {
    "colab_type": "text",
    "id": "cR8fNnKLup5Z"
   },
   "source": [
    "## Graficando 'dino'"
   ]
  },
  {
   "cell_type": "code",
   "execution_count": null,
   "metadata": {
    "colab": {
     "base_uri": "https://localhost:8080/",
     "height": 424
    },
    "colab_type": "code",
    "executionInfo": {
     "elapsed": 419,
     "status": "ok",
     "timestamp": 1597158864878,
     "user": {
      "displayName": "oscar julian perdomo charry",
      "photoUrl": "https://lh3.googleusercontent.com/a-/AOh14Gj50GKHE5azeLasCIdHHvJyKbb-J9QYQYnhmZmjUmY=s64",
      "userId": "00703697915370109039"
     },
     "user_tz": 300
    },
    "id": "cq-E-S9GxJL6",
    "outputId": "e20f23dc-3cac-4746-9bac-3efb2ef00df1"
   },
   "outputs": [
    {
     "data": {
      "text/html": [
       "<div>\n",
       "<style scoped>\n",
       "    .dataframe tbody tr th:only-of-type {\n",
       "        vertical-align: middle;\n",
       "    }\n",
       "\n",
       "    .dataframe tbody tr th {\n",
       "        vertical-align: top;\n",
       "    }\n",
       "\n",
       "    .dataframe thead th {\n",
       "        text-align: right;\n",
       "    }\n",
       "</style>\n",
       "<table border=\"1\" class=\"dataframe\">\n",
       "  <thead>\n",
       "    <tr style=\"text-align: right;\">\n",
       "      <th></th>\n",
       "      <th>Set</th>\n",
       "      <th>pointid</th>\n",
       "      <th>dataset</th>\n",
       "      <th>x</th>\n",
       "      <th>y</th>\n",
       "    </tr>\n",
       "  </thead>\n",
       "  <tbody>\n",
       "    <tr>\n",
       "      <th>0</th>\n",
       "      <td>Datasaurus Dozen</td>\n",
       "      <td>1</td>\n",
       "      <td>dino</td>\n",
       "      <td>55.3846</td>\n",
       "      <td>97.1795</td>\n",
       "    </tr>\n",
       "    <tr>\n",
       "      <th>1</th>\n",
       "      <td>Datasaurus Dozen</td>\n",
       "      <td>2</td>\n",
       "      <td>dino</td>\n",
       "      <td>51.5385</td>\n",
       "      <td>96.0256</td>\n",
       "    </tr>\n",
       "    <tr>\n",
       "      <th>2</th>\n",
       "      <td>Datasaurus Dozen</td>\n",
       "      <td>3</td>\n",
       "      <td>dino</td>\n",
       "      <td>46.1538</td>\n",
       "      <td>94.4872</td>\n",
       "    </tr>\n",
       "    <tr>\n",
       "      <th>3</th>\n",
       "      <td>Datasaurus Dozen</td>\n",
       "      <td>4</td>\n",
       "      <td>dino</td>\n",
       "      <td>42.8205</td>\n",
       "      <td>91.4103</td>\n",
       "    </tr>\n",
       "    <tr>\n",
       "      <th>4</th>\n",
       "      <td>Datasaurus Dozen</td>\n",
       "      <td>5</td>\n",
       "      <td>dino</td>\n",
       "      <td>40.7692</td>\n",
       "      <td>88.3333</td>\n",
       "    </tr>\n",
       "    <tr>\n",
       "      <th>...</th>\n",
       "      <td>...</td>\n",
       "      <td>...</td>\n",
       "      <td>...</td>\n",
       "      <td>...</td>\n",
       "      <td>...</td>\n",
       "    </tr>\n",
       "    <tr>\n",
       "      <th>137</th>\n",
       "      <td>Datasaurus Dozen</td>\n",
       "      <td>138</td>\n",
       "      <td>dino</td>\n",
       "      <td>39.4872</td>\n",
       "      <td>25.3846</td>\n",
       "    </tr>\n",
       "    <tr>\n",
       "      <th>138</th>\n",
       "      <td>Datasaurus Dozen</td>\n",
       "      <td>139</td>\n",
       "      <td>dino</td>\n",
       "      <td>91.2821</td>\n",
       "      <td>41.5385</td>\n",
       "    </tr>\n",
       "    <tr>\n",
       "      <th>139</th>\n",
       "      <td>Datasaurus Dozen</td>\n",
       "      <td>140</td>\n",
       "      <td>dino</td>\n",
       "      <td>50.0000</td>\n",
       "      <td>95.7692</td>\n",
       "    </tr>\n",
       "    <tr>\n",
       "      <th>140</th>\n",
       "      <td>Datasaurus Dozen</td>\n",
       "      <td>141</td>\n",
       "      <td>dino</td>\n",
       "      <td>47.9487</td>\n",
       "      <td>95.0000</td>\n",
       "    </tr>\n",
       "    <tr>\n",
       "      <th>141</th>\n",
       "      <td>Datasaurus Dozen</td>\n",
       "      <td>142</td>\n",
       "      <td>dino</td>\n",
       "      <td>44.1026</td>\n",
       "      <td>92.6923</td>\n",
       "    </tr>\n",
       "  </tbody>\n",
       "</table>\n",
       "<p>142 rows × 5 columns</p>\n",
       "</div>"
      ],
      "text/plain": [
       "                  Set  pointid dataset        x        y\n",
       "0    Datasaurus Dozen        1    dino  55.3846  97.1795\n",
       "1    Datasaurus Dozen        2    dino  51.5385  96.0256\n",
       "2    Datasaurus Dozen        3    dino  46.1538  94.4872\n",
       "3    Datasaurus Dozen        4    dino  42.8205  91.4103\n",
       "4    Datasaurus Dozen        5    dino  40.7692  88.3333\n",
       "..                ...      ...     ...      ...      ...\n",
       "137  Datasaurus Dozen      138    dino  39.4872  25.3846\n",
       "138  Datasaurus Dozen      139    dino  91.2821  41.5385\n",
       "139  Datasaurus Dozen      140    dino  50.0000  95.7692\n",
       "140  Datasaurus Dozen      141    dino  47.9487  95.0000\n",
       "141  Datasaurus Dozen      142    dino  44.1026  92.6923\n",
       "\n",
       "[142 rows x 5 columns]"
      ]
     },
     "execution_count": 6,
     "metadata": {
      "tags": []
     },
     "output_type": "execute_result"
    }
   ],
   "source": [
    "dino = df[df['dataset']=='dino']\n",
    "dino"
   ]
  },
  {
   "cell_type": "code",
   "execution_count": null,
   "metadata": {
    "colab": {
     "base_uri": "https://localhost:8080/",
     "height": 297
    },
    "colab_type": "code",
    "executionInfo": {
     "elapsed": 537,
     "status": "ok",
     "timestamp": 1597158875055,
     "user": {
      "displayName": "oscar julian perdomo charry",
      "photoUrl": "https://lh3.googleusercontent.com/a-/AOh14Gj50GKHE5azeLasCIdHHvJyKbb-J9QYQYnhmZmjUmY=s64",
      "userId": "00703697915370109039"
     },
     "user_tz": 300
    },
    "id": "h4cGnTQouj6h",
    "outputId": "d408aa78-c0f6-48ce-c633-b5b521c89a11"
   },
   "outputs": [
    {
     "data": {
      "text/plain": [
       "<matplotlib.axes._subplots.AxesSubplot at 0x7f030d17bfd0>"
      ]
     },
     "execution_count": 7,
     "metadata": {
      "tags": []
     },
     "output_type": "execute_result"
    },
    {
     "data": {
      "image/png": "[encoded data removed]",
      "text/plain": [
       "<Figure size 432x288 with 1 Axes>"
      ]
     },
     "metadata": {
      "needs_background": "light",
      "tags": []
     },
     "output_type": "display_data"
    }
   ],
   "source": [
    "dino.plot.scatter(x='x', y='y', c='DarkRed')"
   ]
  },
  {
   "cell_type": "code",
   "execution_count": null,
   "metadata": {
    "colab": {
     "base_uri": "https://localhost:8080/",
     "height": 35
    },
    "colab_type": "code",
    "executionInfo": {
     "elapsed": 446,
     "status": "ok",
     "timestamp": 1597158979868,
     "user": {
      "displayName": "oscar julian perdomo charry",
      "photoUrl": "https://lh3.googleusercontent.com/a-/AOh14Gj50GKHE5azeLasCIdHHvJyKbb-J9QYQYnhmZmjUmY=s64",
      "userId": "00703697915370109039"
     },
     "user_tz": 300
    },
    "id": "Oh9bmuPCFyXV",
    "outputId": "78759506-c4b3-4c5f-f7f5-8ad9260a80f8"
   },
   "outputs": [
    {
     "data": {
      "text/plain": [
       "(54.26327323943664, 47.832252816901374)"
      ]
     },
     "execution_count": 10,
     "metadata": {
      "tags": []
     },
     "output_type": "execute_result"
    }
   ],
   "source": [
    "dino['x'].mean(), dino['y'].mean()"
   ]
  },
  {
   "cell_type": "markdown",
   "metadata": {
    "colab_type": "text",
    "id": "D1nMx2WyuvA2"
   },
   "source": [
    "## Graficando desde 'Anscombe 1' hasta 'Anscombe 4'"
   ]
  },
  {
   "cell_type": "code",
   "execution_count": null,
   "metadata": {
    "colab": {
     "base_uri": "https://localhost:8080/",
     "height": 1000
    },
    "colab_type": "code",
    "executionInfo": {
     "elapsed": 1174,
     "status": "ok",
     "timestamp": 1597159185694,
     "user": {
      "displayName": "oscar julian perdomo charry",
      "photoUrl": "https://lh3.googleusercontent.com/a-/AOh14Gj50GKHE5azeLasCIdHHvJyKbb-J9QYQYnhmZmjUmY=s64",
      "userId": "00703697915370109039"
     },
     "user_tz": 300
    },
    "id": "XPKsTsXyuvBB",
    "outputId": "09a1098b-94e5-4d39-d6a8-9fb8cb107e26"
   },
   "outputs": [
    {
     "data": {
      "image/png": "[encoded data removed]",
      "text/plain": [
       "<Figure size 432x288 with 1 Axes>"
      ]
     },
     "metadata": {
      "needs_background": "light",
      "tags": []
     },
     "output_type": "display_data"
    },
    {
     "data": {
      "image/png": "[encoded data removed]",
      "text/plain": [
       "<Figure size 432x288 with 1 Axes>"
      ]
     },
     "metadata": {
      "needs_background": "light",
      "tags": []
     },
     "output_type": "display_data"
    },
    {
     "data": {
      "image/png": "[encoded data removed]",
      "text/plain": [
       "<Figure size 432x288 with 1 Axes>"
      ]
     },
     "metadata": {
      "needs_background": "light",
      "tags": []
     },
     "output_type": "display_data"
    },
    {
     "data": {
      "image/png": "[encoded data removed]",
      "text/plain": [
       "<Figure size 432x288 with 1 Axes>"
      ]
     },
     "metadata": {
      "needs_background": "light",
      "tags": []
     },
     "output_type": "display_data"
    }
   ],
   "source": [
    "lista = ['Anscombe 1', 'Anscombe 2', 'Anscombe 3', 'Anscombe 4']\n",
    "cuatro = df[df['dataset'].isin(lista)]\n",
    "for i in lista:\n",
    "  data=cuatro[cuatro['dataset'].isin([i])]\n",
    "  data.plot.scatter(x='x',y='y')"
   ]
  },
  {
   "cell_type": "markdown",
   "metadata": {
    "colab_type": "text",
    "id": "v0kWP0ZZuuRi"
   },
   "source": [
    "## Graficando desde 'away' hasta 'wide_lines'"
   ]
  },
  {
   "cell_type": "code",
   "execution_count": null,
   "metadata": {
    "colab": {
     "base_uri": "https://localhost:8080/",
     "height": 90
    },
    "colab_type": "code",
    "executionInfo": {
     "elapsed": 1045,
     "status": "ok",
     "timestamp": 1597159240114,
     "user": {
      "displayName": "oscar julian perdomo charry",
      "photoUrl": "https://lh3.googleusercontent.com/a-/AOh14Gj50GKHE5azeLasCIdHHvJyKbb-J9QYQYnhmZmjUmY=s64",
      "userId": "00703697915370109039"
     },
     "user_tz": 300
    },
    "id": "8vdH-x_R0ftA",
    "outputId": "b150f09a-5dd8-45c5-9d27-0e1748d664ff"
   },
   "outputs": [
    {
     "data": {
      "text/plain": [
       "array(['dino', 'away', 'h_lines', 'v_lines', 'x_shape', 'star',\n",
       "       'high_lines', 'dots', 'circle', 'bullseye', 'slant_up',\n",
       "       'slant_down', 'wide_lines', 'Anscombe 1', 'Anscombe 2',\n",
       "       'Anscombe 3', 'Anscombe 4'], dtype=object)"
      ]
     },
     "execution_count": 20,
     "metadata": {
      "tags": []
     },
     "output_type": "execute_result"
    }
   ],
   "source": [
    "df['dataset'].unique()"
   ]
  },
  {
   "cell_type": "code",
   "execution_count": null,
   "metadata": {
    "colab": {
     "base_uri": "https://localhost:8080/",
     "height": 424
    },
    "colab_type": "code",
    "executionInfo": {
     "elapsed": 872,
     "status": "ok",
     "timestamp": 1597159245707,
     "user": {
      "displayName": "oscar julian perdomo charry",
      "photoUrl": "https://lh3.googleusercontent.com/a-/AOh14Gj50GKHE5azeLasCIdHHvJyKbb-J9QYQYnhmZmjUmY=s64",
      "userId": "00703697915370109039"
     },
     "user_tz": 300
    },
    "id": "eEiDWjTbyebX",
    "outputId": "80997d5c-766e-43c9-b7b0-e7721b74af2b"
   },
   "outputs": [
    {
     "data": {
      "text/html": [
       "<div>\n",
       "<style scoped>\n",
       "    .dataframe tbody tr th:only-of-type {\n",
       "        vertical-align: middle;\n",
       "    }\n",
       "\n",
       "    .dataframe tbody tr th {\n",
       "        vertical-align: top;\n",
       "    }\n",
       "\n",
       "    .dataframe thead th {\n",
       "        text-align: right;\n",
       "    }\n",
       "</style>\n",
       "<table border=\"1\" class=\"dataframe\">\n",
       "  <thead>\n",
       "    <tr style=\"text-align: right;\">\n",
       "      <th></th>\n",
       "      <th>Set</th>\n",
       "      <th>pointid</th>\n",
       "      <th>dataset</th>\n",
       "      <th>x</th>\n",
       "      <th>y</th>\n",
       "    </tr>\n",
       "  </thead>\n",
       "  <tbody>\n",
       "    <tr>\n",
       "      <th>142</th>\n",
       "      <td>Datasaurus Dozen</td>\n",
       "      <td>143</td>\n",
       "      <td>away</td>\n",
       "      <td>32.33111</td>\n",
       "      <td>61.41110</td>\n",
       "    </tr>\n",
       "    <tr>\n",
       "      <th>143</th>\n",
       "      <td>Datasaurus Dozen</td>\n",
       "      <td>144</td>\n",
       "      <td>away</td>\n",
       "      <td>53.42146</td>\n",
       "      <td>26.18688</td>\n",
       "    </tr>\n",
       "    <tr>\n",
       "      <th>144</th>\n",
       "      <td>Datasaurus Dozen</td>\n",
       "      <td>145</td>\n",
       "      <td>away</td>\n",
       "      <td>63.92020</td>\n",
       "      <td>30.83219</td>\n",
       "    </tr>\n",
       "    <tr>\n",
       "      <th>145</th>\n",
       "      <td>Datasaurus Dozen</td>\n",
       "      <td>146</td>\n",
       "      <td>away</td>\n",
       "      <td>70.28951</td>\n",
       "      <td>82.53365</td>\n",
       "    </tr>\n",
       "    <tr>\n",
       "      <th>146</th>\n",
       "      <td>Datasaurus Dozen</td>\n",
       "      <td>147</td>\n",
       "      <td>away</td>\n",
       "      <td>34.11883</td>\n",
       "      <td>45.73455</td>\n",
       "    </tr>\n",
       "    <tr>\n",
       "      <th>...</th>\n",
       "      <td>...</td>\n",
       "      <td>...</td>\n",
       "      <td>...</td>\n",
       "      <td>...</td>\n",
       "      <td>...</td>\n",
       "    </tr>\n",
       "    <tr>\n",
       "      <th>1841</th>\n",
       "      <td>Datasaurus Dozen</td>\n",
       "      <td>1842</td>\n",
       "      <td>wide_lines</td>\n",
       "      <td>33.67444</td>\n",
       "      <td>26.09049</td>\n",
       "    </tr>\n",
       "    <tr>\n",
       "      <th>1842</th>\n",
       "      <td>Datasaurus Dozen</td>\n",
       "      <td>1843</td>\n",
       "      <td>wide_lines</td>\n",
       "      <td>75.62726</td>\n",
       "      <td>37.12875</td>\n",
       "    </tr>\n",
       "    <tr>\n",
       "      <th>1843</th>\n",
       "      <td>Datasaurus Dozen</td>\n",
       "      <td>1844</td>\n",
       "      <td>wide_lines</td>\n",
       "      <td>40.61013</td>\n",
       "      <td>89.13624</td>\n",
       "    </tr>\n",
       "    <tr>\n",
       "      <th>1844</th>\n",
       "      <td>Datasaurus Dozen</td>\n",
       "      <td>1845</td>\n",
       "      <td>wide_lines</td>\n",
       "      <td>39.11437</td>\n",
       "      <td>96.48175</td>\n",
       "    </tr>\n",
       "    <tr>\n",
       "      <th>1845</th>\n",
       "      <td>Datasaurus Dozen</td>\n",
       "      <td>1846</td>\n",
       "      <td>wide_lines</td>\n",
       "      <td>34.58383</td>\n",
       "      <td>89.58890</td>\n",
       "    </tr>\n",
       "  </tbody>\n",
       "</table>\n",
       "<p>1704 rows × 5 columns</p>\n",
       "</div>"
      ],
      "text/plain": [
       "                   Set  pointid     dataset         x         y\n",
       "142   Datasaurus Dozen      143        away  32.33111  61.41110\n",
       "143   Datasaurus Dozen      144        away  53.42146  26.18688\n",
       "144   Datasaurus Dozen      145        away  63.92020  30.83219\n",
       "145   Datasaurus Dozen      146        away  70.28951  82.53365\n",
       "146   Datasaurus Dozen      147        away  34.11883  45.73455\n",
       "...                ...      ...         ...       ...       ...\n",
       "1841  Datasaurus Dozen     1842  wide_lines  33.67444  26.09049\n",
       "1842  Datasaurus Dozen     1843  wide_lines  75.62726  37.12875\n",
       "1843  Datasaurus Dozen     1844  wide_lines  40.61013  89.13624\n",
       "1844  Datasaurus Dozen     1845  wide_lines  39.11437  96.48175\n",
       "1845  Datasaurus Dozen     1846  wide_lines  34.58383  89.58890\n",
       "\n",
       "[1704 rows x 5 columns]"
      ]
     },
     "execution_count": 21,
     "metadata": {
      "tags": []
     },
     "output_type": "execute_result"
    }
   ],
   "source": [
    "my_list=['away', 'h_lines', 'v_lines', 'x_shape', 'star','high_lines', 'dots', 'circle', 'bullseye', 'slant_up','slant_down', 'wide_lines']\n",
    "doce = df[df['dataset'].isin(my_list)]\n",
    "doce"
   ]
  },
  {
   "cell_type": "code",
   "execution_count": null,
   "metadata": {
    "colab": {
     "base_uri": "https://localhost:8080/",
     "height": 35
    },
    "colab_type": "code",
    "executionInfo": {
     "elapsed": 1113,
     "status": "ok",
     "timestamp": 1597159267441,
     "user": {
      "displayName": "oscar julian perdomo charry",
      "photoUrl": "https://lh3.googleusercontent.com/a-/AOh14Gj50GKHE5azeLasCIdHHvJyKbb-J9QYQYnhmZmjUmY=s64",
      "userId": "00703697915370109039"
     },
     "user_tz": 300
    },
    "id": "jEf4KsRfoaTY",
    "outputId": "f01baf7c-f6b4-4041-fb56-40cc161bad49"
   },
   "outputs": [
    {
     "data": {
      "text/plain": [
       "(54.2658972183098, 47.83533637617372)"
      ]
     },
     "execution_count": 23,
     "metadata": {
      "tags": []
     },
     "output_type": "execute_result"
    }
   ],
   "source": [
    "doce['x'].mean(), doce['y'].mean()"
   ]
  },
  {
   "cell_type": "code",
   "execution_count": null,
   "metadata": {
    "colab": {
     "base_uri": "https://localhost:8080/",
     "height": 606
    },
    "colab_type": "code",
    "executionInfo": {
     "elapsed": 2274,
     "status": "ok",
     "timestamp": 1597159682206,
     "user": {
      "displayName": "oscar julian perdomo charry",
      "photoUrl": "https://lh3.googleusercontent.com/a-/AOh14Gj50GKHE5azeLasCIdHHvJyKbb-J9QYQYnhmZmjUmY=s64",
      "userId": "00703697915370109039"
     },
     "user_tz": 300
    },
    "id": "gTeLad4NtDar",
    "outputId": "d9984746-1a79-4926-9afb-dfa5297ec694"
   },
   "outputs": [
    {
     "data": {
      "image/png": "[encoded data removed]",
      "text/plain": [
       "<Figure size 1080x720 with 12 Axes>"
      ]
     },
     "metadata": {
      "needs_background": "light",
      "tags": []
     },
     "output_type": "display_data"
    }
   ],
   "source": [
    "fig,ax=plt.subplots(nrows=3,ncols=4,figsize=(15, 10))\n",
    "for i in range(1,13):\n",
    "  ix=np.unravel_index(i-1,ax.shape)\n",
    "  data=doce[doce['dataset'].isin([my_list[i-1]])]\n",
    "  data.plot.scatter(x='x',y='y',ax=ax[ix],c='Darkred')"
   ]
  },
  {
   "cell_type": "markdown",
   "metadata": {
    "colab_type": "text",
    "id": "Xiyh-98NRFgJ"
   },
   "source": [
    "# Analizando de datos de sobrevivientes del Titanic"
   ]
  },
  {
   "cell_type": "markdown",
   "metadata": {
    "colab_type": "text",
    "id": "vK7FIoi9hPeM"
   },
   "source": [
    "<img src= \"https://www.lapnayh.com/wp-content/uploads/2016/01/memes-titanic-twitter-02.jpg\" height=\"250\" width=\"500\">"
   ]
  },
  {
   "cell_type": "markdown",
   "metadata": {
    "colab_type": "text",
    "id": "mSFNrA5iGrCF"
   },
   "source": [
    "Overview\n",
    "\n",
    "* survival Survival 0 = No, 1 = Yes \n",
    "* pclass Ticket class 1 = 1st, 2 = 2nd, 3 = 3rd \n",
    "* sex = male, female\n",
    "* Age = Age in years \n",
    "* sibsp = Number of Siblings/Spouses Aboard\n",
    "* parch = Number of Parents/Children Aboard\n",
    "* spouses aboard the Titanic parch # of parents / \n",
    "* ticket = Ticket number \n",
    "* fare = Passenger fare (British pound)\n",
    "* cabin = Cabin number \n",
    "* embarked = embarked Port of Embarkation C = Cherbourg, Q = Queenstown, S = Southampton\n",
    "* boat = Life boat \n",
    "* body = Body Identification Number\n",
    "* home.dest = Home/Destination"
   ]
  },
  {
   "cell_type": "markdown",
   "metadata": {
    "colab_type": "text",
    "id": "3wCRl9GXJOXp"
   },
   "source": [
    "Más información en: http://campus.lakeforest.edu/frank/FILES/MLFfiles/Bio150/Titanic/TitanicMETA.pdf"
   ]
  },
  {
   "cell_type": "code",
   "execution_count": null,
   "metadata": {
    "colab": {
     "base_uri": "https://localhost:8080/",
     "height": 206
    },
    "colab_type": "code",
    "executionInfo": {
     "elapsed": 498,
     "status": "ok",
     "timestamp": 1597161941050,
     "user": {
      "displayName": "oscar julian perdomo charry",
      "photoUrl": "https://lh3.googleusercontent.com/a-/AOh14Gj50GKHE5azeLasCIdHHvJyKbb-J9QYQYnhmZmjUmY=s64",
      "userId": "00703697915370109039"
     },
     "user_tz": 300
    },
    "id": "SoPJcZbI8_1y",
    "outputId": "3ce047ef-3371-4c61-911d-87c1a83e82b7"
   },
   "outputs": [
    {
     "data": {
      "text/html": [
       "<div>\n",
       "<style scoped>\n",
       "    .dataframe tbody tr th:only-of-type {\n",
       "        vertical-align: middle;\n",
       "    }\n",
       "\n",
       "    .dataframe tbody tr th {\n",
       "        vertical-align: top;\n",
       "    }\n",
       "\n",
       "    .dataframe thead th {\n",
       "        text-align: right;\n",
       "    }\n",
       "</style>\n",
       "<table border=\"1\" class=\"dataframe\">\n",
       "  <thead>\n",
       "    <tr style=\"text-align: right;\">\n",
       "      <th></th>\n",
       "      <th>survived</th>\n",
       "      <th>pclass</th>\n",
       "      <th>sex</th>\n",
       "      <th>age</th>\n",
       "      <th>sibsp</th>\n",
       "      <th>parch</th>\n",
       "      <th>fare</th>\n",
       "      <th>embarked</th>\n",
       "      <th>class</th>\n",
       "      <th>who</th>\n",
       "      <th>adult_male</th>\n",
       "      <th>deck</th>\n",
       "      <th>embark_town</th>\n",
       "      <th>alive</th>\n",
       "      <th>alone</th>\n",
       "    </tr>\n",
       "  </thead>\n",
       "  <tbody>\n",
       "    <tr>\n",
       "      <th>0</th>\n",
       "      <td>0</td>\n",
       "      <td>3</td>\n",
       "      <td>male</td>\n",
       "      <td>22.0</td>\n",
       "      <td>1</td>\n",
       "      <td>0</td>\n",
       "      <td>7.2500</td>\n",
       "      <td>S</td>\n",
       "      <td>Third</td>\n",
       "      <td>man</td>\n",
       "      <td>True</td>\n",
       "      <td>NaN</td>\n",
       "      <td>Southampton</td>\n",
       "      <td>no</td>\n",
       "      <td>False</td>\n",
       "    </tr>\n",
       "    <tr>\n",
       "      <th>1</th>\n",
       "      <td>1</td>\n",
       "      <td>1</td>\n",
       "      <td>female</td>\n",
       "      <td>38.0</td>\n",
       "      <td>1</td>\n",
       "      <td>0</td>\n",
       "      <td>71.2833</td>\n",
       "      <td>C</td>\n",
       "      <td>First</td>\n",
       "      <td>woman</td>\n",
       "      <td>False</td>\n",
       "      <td>C</td>\n",
       "      <td>Cherbourg</td>\n",
       "      <td>yes</td>\n",
       "      <td>False</td>\n",
       "    </tr>\n",
       "    <tr>\n",
       "      <th>2</th>\n",
       "      <td>1</td>\n",
       "      <td>3</td>\n",
       "      <td>female</td>\n",
       "      <td>26.0</td>\n",
       "      <td>0</td>\n",
       "      <td>0</td>\n",
       "      <td>7.9250</td>\n",
       "      <td>S</td>\n",
       "      <td>Third</td>\n",
       "      <td>woman</td>\n",
       "      <td>False</td>\n",
       "      <td>NaN</td>\n",
       "      <td>Southampton</td>\n",
       "      <td>yes</td>\n",
       "      <td>True</td>\n",
       "    </tr>\n",
       "    <tr>\n",
       "      <th>3</th>\n",
       "      <td>1</td>\n",
       "      <td>1</td>\n",
       "      <td>female</td>\n",
       "      <td>35.0</td>\n",
       "      <td>1</td>\n",
       "      <td>0</td>\n",
       "      <td>53.1000</td>\n",
       "      <td>S</td>\n",
       "      <td>First</td>\n",
       "      <td>woman</td>\n",
       "      <td>False</td>\n",
       "      <td>C</td>\n",
       "      <td>Southampton</td>\n",
       "      <td>yes</td>\n",
       "      <td>False</td>\n",
       "    </tr>\n",
       "    <tr>\n",
       "      <th>4</th>\n",
       "      <td>0</td>\n",
       "      <td>3</td>\n",
       "      <td>male</td>\n",
       "      <td>35.0</td>\n",
       "      <td>0</td>\n",
       "      <td>0</td>\n",
       "      <td>8.0500</td>\n",
       "      <td>S</td>\n",
       "      <td>Third</td>\n",
       "      <td>man</td>\n",
       "      <td>True</td>\n",
       "      <td>NaN</td>\n",
       "      <td>Southampton</td>\n",
       "      <td>no</td>\n",
       "      <td>True</td>\n",
       "    </tr>\n",
       "  </tbody>\n",
       "</table>\n",
       "</div>"
      ],
      "text/plain": [
       "   survived  pclass     sex   age  ...  deck  embark_town  alive  alone\n",
       "0         0       3    male  22.0  ...   NaN  Southampton     no  False\n",
       "1         1       1  female  38.0  ...     C    Cherbourg    yes  False\n",
       "2         1       3  female  26.0  ...   NaN  Southampton    yes   True\n",
       "3         1       1  female  35.0  ...     C  Southampton    yes  False\n",
       "4         0       3    male  35.0  ...   NaN  Southampton     no   True\n",
       "\n",
       "[5 rows x 15 columns]"
      ]
     },
     "execution_count": 58,
     "metadata": {
      "tags": []
     },
     "output_type": "execute_result"
    }
   ],
   "source": [
    "import seaborn as sns #Otra libería para hacer visualizaciones\n",
    "titanic = sns.load_dataset('titanic')\n",
    "titanic.head()"
   ]
  },
  {
   "cell_type": "code",
   "execution_count": null,
   "metadata": {
    "colab": {
     "base_uri": "https://localhost:8080/",
     "height": 90
    },
    "colab_type": "code",
    "executionInfo": {
     "elapsed": 349,
     "status": "ok",
     "timestamp": 1597161941941,
     "user": {
      "displayName": "oscar julian perdomo charry",
      "photoUrl": "https://lh3.googleusercontent.com/a-/AOh14Gj50GKHE5azeLasCIdHHvJyKbb-J9QYQYnhmZmjUmY=s64",
      "userId": "00703697915370109039"
     },
     "user_tz": 300
    },
    "id": "HXdlJUTtH88T",
    "outputId": "2d4c42e9-1704-4ab7-81b4-04b5d8ed9cf9"
   },
   "outputs": [
    {
     "data": {
      "text/plain": [
       "Index(['survived', 'pclass', 'sex', 'age', 'sibsp', 'parch', 'fare',\n",
       "       'embarked', 'class', 'who', 'adult_male', 'deck', 'embark_town',\n",
       "       'alive', 'alone'],\n",
       "      dtype='object')"
      ]
     },
     "execution_count": 59,
     "metadata": {
      "tags": []
     },
     "output_type": "execute_result"
    }
   ],
   "source": [
    "titanic.keys()"
   ]
  },
  {
   "cell_type": "code",
   "execution_count": null,
   "metadata": {
    "colab": {
     "base_uri": "https://localhost:8080/",
     "height": 363
    },
    "colab_type": "code",
    "executionInfo": {
     "elapsed": 477,
     "status": "ok",
     "timestamp": 1597161943515,
     "user": {
      "displayName": "oscar julian perdomo charry",
      "photoUrl": "https://lh3.googleusercontent.com/a-/AOh14Gj50GKHE5azeLasCIdHHvJyKbb-J9QYQYnhmZmjUmY=s64",
      "userId": "00703697915370109039"
     },
     "user_tz": 300
    },
    "id": "5q-VMJo3vP89",
    "outputId": "c3214c65-c97f-4da9-ae6a-c4c4ae29ab3a"
   },
   "outputs": [
    {
     "data": {
      "text/html": [
       "<div>\n",
       "<style scoped>\n",
       "    .dataframe tbody tr th:only-of-type {\n",
       "        vertical-align: middle;\n",
       "    }\n",
       "\n",
       "    .dataframe tbody tr th {\n",
       "        vertical-align: top;\n",
       "    }\n",
       "\n",
       "    .dataframe thead th {\n",
       "        text-align: right;\n",
       "    }\n",
       "</style>\n",
       "<table border=\"1\" class=\"dataframe\">\n",
       "  <thead>\n",
       "    <tr style=\"text-align: right;\">\n",
       "      <th></th>\n",
       "      <th>survived</th>\n",
       "      <th>pclass</th>\n",
       "      <th>sex</th>\n",
       "      <th>age</th>\n",
       "      <th>sibsp</th>\n",
       "      <th>parch</th>\n",
       "      <th>fare</th>\n",
       "      <th>embarked</th>\n",
       "      <th>class</th>\n",
       "      <th>who</th>\n",
       "      <th>adult_male</th>\n",
       "      <th>deck</th>\n",
       "      <th>embark_town</th>\n",
       "      <th>alive</th>\n",
       "      <th>alone</th>\n",
       "    </tr>\n",
       "  </thead>\n",
       "  <tbody>\n",
       "    <tr>\n",
       "      <th>881</th>\n",
       "      <td>0</td>\n",
       "      <td>3</td>\n",
       "      <td>male</td>\n",
       "      <td>33.0</td>\n",
       "      <td>0</td>\n",
       "      <td>0</td>\n",
       "      <td>7.8958</td>\n",
       "      <td>S</td>\n",
       "      <td>Third</td>\n",
       "      <td>man</td>\n",
       "      <td>True</td>\n",
       "      <td>NaN</td>\n",
       "      <td>Southampton</td>\n",
       "      <td>no</td>\n",
       "      <td>True</td>\n",
       "    </tr>\n",
       "    <tr>\n",
       "      <th>882</th>\n",
       "      <td>0</td>\n",
       "      <td>3</td>\n",
       "      <td>female</td>\n",
       "      <td>22.0</td>\n",
       "      <td>0</td>\n",
       "      <td>0</td>\n",
       "      <td>10.5167</td>\n",
       "      <td>S</td>\n",
       "      <td>Third</td>\n",
       "      <td>woman</td>\n",
       "      <td>False</td>\n",
       "      <td>NaN</td>\n",
       "      <td>Southampton</td>\n",
       "      <td>no</td>\n",
       "      <td>True</td>\n",
       "    </tr>\n",
       "    <tr>\n",
       "      <th>883</th>\n",
       "      <td>0</td>\n",
       "      <td>2</td>\n",
       "      <td>male</td>\n",
       "      <td>28.0</td>\n",
       "      <td>0</td>\n",
       "      <td>0</td>\n",
       "      <td>10.5000</td>\n",
       "      <td>S</td>\n",
       "      <td>Second</td>\n",
       "      <td>man</td>\n",
       "      <td>True</td>\n",
       "      <td>NaN</td>\n",
       "      <td>Southampton</td>\n",
       "      <td>no</td>\n",
       "      <td>True</td>\n",
       "    </tr>\n",
       "    <tr>\n",
       "      <th>884</th>\n",
       "      <td>0</td>\n",
       "      <td>3</td>\n",
       "      <td>male</td>\n",
       "      <td>25.0</td>\n",
       "      <td>0</td>\n",
       "      <td>0</td>\n",
       "      <td>7.0500</td>\n",
       "      <td>S</td>\n",
       "      <td>Third</td>\n",
       "      <td>man</td>\n",
       "      <td>True</td>\n",
       "      <td>NaN</td>\n",
       "      <td>Southampton</td>\n",
       "      <td>no</td>\n",
       "      <td>True</td>\n",
       "    </tr>\n",
       "    <tr>\n",
       "      <th>885</th>\n",
       "      <td>0</td>\n",
       "      <td>3</td>\n",
       "      <td>female</td>\n",
       "      <td>39.0</td>\n",
       "      <td>0</td>\n",
       "      <td>5</td>\n",
       "      <td>29.1250</td>\n",
       "      <td>Q</td>\n",
       "      <td>Third</td>\n",
       "      <td>woman</td>\n",
       "      <td>False</td>\n",
       "      <td>NaN</td>\n",
       "      <td>Queenstown</td>\n",
       "      <td>no</td>\n",
       "      <td>False</td>\n",
       "    </tr>\n",
       "    <tr>\n",
       "      <th>886</th>\n",
       "      <td>0</td>\n",
       "      <td>2</td>\n",
       "      <td>male</td>\n",
       "      <td>27.0</td>\n",
       "      <td>0</td>\n",
       "      <td>0</td>\n",
       "      <td>13.0000</td>\n",
       "      <td>S</td>\n",
       "      <td>Second</td>\n",
       "      <td>man</td>\n",
       "      <td>True</td>\n",
       "      <td>NaN</td>\n",
       "      <td>Southampton</td>\n",
       "      <td>no</td>\n",
       "      <td>True</td>\n",
       "    </tr>\n",
       "    <tr>\n",
       "      <th>887</th>\n",
       "      <td>1</td>\n",
       "      <td>1</td>\n",
       "      <td>female</td>\n",
       "      <td>19.0</td>\n",
       "      <td>0</td>\n",
       "      <td>0</td>\n",
       "      <td>30.0000</td>\n",
       "      <td>S</td>\n",
       "      <td>First</td>\n",
       "      <td>woman</td>\n",
       "      <td>False</td>\n",
       "      <td>B</td>\n",
       "      <td>Southampton</td>\n",
       "      <td>yes</td>\n",
       "      <td>True</td>\n",
       "    </tr>\n",
       "    <tr>\n",
       "      <th>888</th>\n",
       "      <td>0</td>\n",
       "      <td>3</td>\n",
       "      <td>female</td>\n",
       "      <td>NaN</td>\n",
       "      <td>1</td>\n",
       "      <td>2</td>\n",
       "      <td>23.4500</td>\n",
       "      <td>S</td>\n",
       "      <td>Third</td>\n",
       "      <td>woman</td>\n",
       "      <td>False</td>\n",
       "      <td>NaN</td>\n",
       "      <td>Southampton</td>\n",
       "      <td>no</td>\n",
       "      <td>False</td>\n",
       "    </tr>\n",
       "    <tr>\n",
       "      <th>889</th>\n",
       "      <td>1</td>\n",
       "      <td>1</td>\n",
       "      <td>male</td>\n",
       "      <td>26.0</td>\n",
       "      <td>0</td>\n",
       "      <td>0</td>\n",
       "      <td>30.0000</td>\n",
       "      <td>C</td>\n",
       "      <td>First</td>\n",
       "      <td>man</td>\n",
       "      <td>True</td>\n",
       "      <td>C</td>\n",
       "      <td>Cherbourg</td>\n",
       "      <td>yes</td>\n",
       "      <td>True</td>\n",
       "    </tr>\n",
       "    <tr>\n",
       "      <th>890</th>\n",
       "      <td>0</td>\n",
       "      <td>3</td>\n",
       "      <td>male</td>\n",
       "      <td>32.0</td>\n",
       "      <td>0</td>\n",
       "      <td>0</td>\n",
       "      <td>7.7500</td>\n",
       "      <td>Q</td>\n",
       "      <td>Third</td>\n",
       "      <td>man</td>\n",
       "      <td>True</td>\n",
       "      <td>NaN</td>\n",
       "      <td>Queenstown</td>\n",
       "      <td>no</td>\n",
       "      <td>True</td>\n",
       "    </tr>\n",
       "  </tbody>\n",
       "</table>\n",
       "</div>"
      ],
      "text/plain": [
       "     survived  pclass     sex   age  ...  deck  embark_town  alive  alone\n",
       "881         0       3    male  33.0  ...   NaN  Southampton     no   True\n",
       "882         0       3  female  22.0  ...   NaN  Southampton     no   True\n",
       "883         0       2    male  28.0  ...   NaN  Southampton     no   True\n",
       "884         0       3    male  25.0  ...   NaN  Southampton     no   True\n",
       "885         0       3  female  39.0  ...   NaN   Queenstown     no  False\n",
       "886         0       2    male  27.0  ...   NaN  Southampton     no   True\n",
       "887         1       1  female  19.0  ...     B  Southampton    yes   True\n",
       "888         0       3  female   NaN  ...   NaN  Southampton     no  False\n",
       "889         1       1    male  26.0  ...     C    Cherbourg    yes   True\n",
       "890         0       3    male  32.0  ...   NaN   Queenstown     no   True\n",
       "\n",
       "[10 rows x 15 columns]"
      ]
     },
     "execution_count": 60,
     "metadata": {
      "tags": []
     },
     "output_type": "execute_result"
    }
   ],
   "source": [
    "titanic.tail(10)"
   ]
  },
  {
   "cell_type": "code",
   "execution_count": null,
   "metadata": {
    "colab": {
     "base_uri": "https://localhost:8080/",
     "height": 206
    },
    "colab_type": "code",
    "executionInfo": {
     "elapsed": 512,
     "status": "ok",
     "timestamp": 1597161948262,
     "user": {
      "displayName": "oscar julian perdomo charry",
      "photoUrl": "https://lh3.googleusercontent.com/a-/AOh14Gj50GKHE5azeLasCIdHHvJyKbb-J9QYQYnhmZmjUmY=s64",
      "userId": "00703697915370109039"
     },
     "user_tz": 300
    },
    "id": "Jz8znVTL9Ycu",
    "outputId": "a75891dd-bd26-4ca3-d934-5816981484d2"
   },
   "outputs": [
    {
     "data": {
      "text/html": [
       "<div>\n",
       "<style scoped>\n",
       "    .dataframe tbody tr th:only-of-type {\n",
       "        vertical-align: middle;\n",
       "    }\n",
       "\n",
       "    .dataframe tbody tr th {\n",
       "        vertical-align: top;\n",
       "    }\n",
       "\n",
       "    .dataframe thead th {\n",
       "        text-align: right;\n",
       "    }\n",
       "</style>\n",
       "<table border=\"1\" class=\"dataframe\">\n",
       "  <thead>\n",
       "    <tr style=\"text-align: right;\">\n",
       "      <th></th>\n",
       "      <th>survived</th>\n",
       "      <th>sex</th>\n",
       "      <th>age</th>\n",
       "      <th>sibsp</th>\n",
       "      <th>parch</th>\n",
       "      <th>fare</th>\n",
       "      <th>class</th>\n",
       "      <th>who</th>\n",
       "      <th>deck</th>\n",
       "      <th>embarked</th>\n",
       "      <th>alone</th>\n",
       "    </tr>\n",
       "  </thead>\n",
       "  <tbody>\n",
       "    <tr>\n",
       "      <th>0</th>\n",
       "      <td>0</td>\n",
       "      <td>male</td>\n",
       "      <td>22.0</td>\n",
       "      <td>1</td>\n",
       "      <td>0</td>\n",
       "      <td>7.2500</td>\n",
       "      <td>Third</td>\n",
       "      <td>man</td>\n",
       "      <td>NaN</td>\n",
       "      <td>Southampton</td>\n",
       "      <td>False</td>\n",
       "    </tr>\n",
       "    <tr>\n",
       "      <th>1</th>\n",
       "      <td>1</td>\n",
       "      <td>female</td>\n",
       "      <td>38.0</td>\n",
       "      <td>1</td>\n",
       "      <td>0</td>\n",
       "      <td>71.2833</td>\n",
       "      <td>First</td>\n",
       "      <td>woman</td>\n",
       "      <td>C</td>\n",
       "      <td>Cherbourg</td>\n",
       "      <td>False</td>\n",
       "    </tr>\n",
       "    <tr>\n",
       "      <th>2</th>\n",
       "      <td>1</td>\n",
       "      <td>female</td>\n",
       "      <td>26.0</td>\n",
       "      <td>0</td>\n",
       "      <td>0</td>\n",
       "      <td>7.9250</td>\n",
       "      <td>Third</td>\n",
       "      <td>woman</td>\n",
       "      <td>NaN</td>\n",
       "      <td>Southampton</td>\n",
       "      <td>True</td>\n",
       "    </tr>\n",
       "    <tr>\n",
       "      <th>3</th>\n",
       "      <td>1</td>\n",
       "      <td>female</td>\n",
       "      <td>35.0</td>\n",
       "      <td>1</td>\n",
       "      <td>0</td>\n",
       "      <td>53.1000</td>\n",
       "      <td>First</td>\n",
       "      <td>woman</td>\n",
       "      <td>C</td>\n",
       "      <td>Southampton</td>\n",
       "      <td>False</td>\n",
       "    </tr>\n",
       "    <tr>\n",
       "      <th>4</th>\n",
       "      <td>0</td>\n",
       "      <td>male</td>\n",
       "      <td>35.0</td>\n",
       "      <td>0</td>\n",
       "      <td>0</td>\n",
       "      <td>8.0500</td>\n",
       "      <td>Third</td>\n",
       "      <td>man</td>\n",
       "      <td>NaN</td>\n",
       "      <td>Southampton</td>\n",
       "      <td>True</td>\n",
       "    </tr>\n",
       "  </tbody>\n",
       "</table>\n",
       "</div>"
      ],
      "text/plain": [
       "   survived     sex   age  sibsp  parch  ...  class    who deck     embarked  alone\n",
       "0         0    male  22.0      1      0  ...  Third    man  NaN  Southampton  False\n",
       "1         1  female  38.0      1      0  ...  First  woman    C    Cherbourg  False\n",
       "2         1  female  26.0      0      0  ...  Third  woman  NaN  Southampton   True\n",
       "3         1  female  35.0      1      0  ...  First  woman    C  Southampton  False\n",
       "4         0    male  35.0      0      0  ...  Third    man  NaN  Southampton   True\n",
       "\n",
       "[5 rows x 11 columns]"
      ]
     },
     "execution_count": 61,
     "metadata": {
      "tags": []
     },
     "output_type": "execute_result"
    }
   ],
   "source": [
    "titanic = titanic.drop(['alive', \n",
    "                        'adult_male', \n",
    "                        'pclass', \n",
    "                        'embarked'], axis=1)\n",
    "titanic.rename(columns={'embark_town': 'embarked'}, inplace=True)\n",
    "titanic.head()"
   ]
  },
  {
   "cell_type": "code",
   "execution_count": null,
   "metadata": {
    "colab": {
     "base_uri": "https://localhost:8080/",
     "height": 631
    },
    "colab_type": "code",
    "executionInfo": {
     "elapsed": 2544,
     "status": "ok",
     "timestamp": 1597163521935,
     "user": {
      "displayName": "oscar julian perdomo charry",
      "photoUrl": "https://lh3.googleusercontent.com/a-/AOh14Gj50GKHE5azeLasCIdHHvJyKbb-J9QYQYnhmZmjUmY=s64",
      "userId": "00703697915370109039"
     },
     "user_tz": 300
    },
    "id": "lZoZUZveWk9o",
    "outputId": "3e8bc216-5528-4f02-9a07-7d967594f27f"
   },
   "outputs": [
    {
     "data": {
      "text/plain": [
       "<matplotlib.axes._subplots.AxesSubplot at 0x7f0308a4c160>"
      ]
     },
     "execution_count": 75,
     "metadata": {
      "tags": []
     },
     "output_type": "execute_result"
    },
    {
     "data": {
      "image/png": "[encoded data removed]",
      "text/plain": [
       "<Figure size 1152x720 with 8 Axes>"
      ]
     },
     "metadata": {
      "tags": []
     },
     "output_type": "display_data"
    }
   ],
   "source": [
    "fig, axes = plt.subplots(2, 4, figsize=(16, 10))\n",
    "sns.countplot('survived',data=titanic,ax=axes[0,0])\n",
    "sns.countplot('parch',data=titanic,ax=axes[0,1])\n",
    "sns.countplot('sex',data=titanic,ax=axes[0,2])\n",
    "sns.countplot('sibsp',data=titanic,ax=axes[0,3])\n",
    "sns.countplot('class',data=titanic,ax=axes[1,0])\n",
    "sns.countplot('embarked',data=titanic,ax=axes[1,1])\n",
    "sns.distplot(titanic['fare'], kde=True,ax=axes[1,2])\n",
    "sns.distplot(titanic['age'].dropna(),kde=True,ax=axes[1,3])"
   ]
  },
  {
   "cell_type": "code",
   "execution_count": null,
   "metadata": {
    "colab": {
     "base_uri": "https://localhost:8080/",
     "height": 72
    },
    "colab_type": "code",
    "executionInfo": {
     "elapsed": 414,
     "status": "ok",
     "timestamp": 1597161956686,
     "user": {
      "displayName": "oscar julian perdomo charry",
      "photoUrl": "https://lh3.googleusercontent.com/a-/AOh14Gj50GKHE5azeLasCIdHHvJyKbb-J9QYQYnhmZmjUmY=s64",
      "userId": "00703697915370109039"
     },
     "user_tz": 300
    },
    "id": "mSYnOX6UJ3Em",
    "outputId": "49485c5a-e518-4b71-c920-4b80ed40cd99"
   },
   "outputs": [
    {
     "name": "stdout",
     "output_type": "stream",
     "text": [
      "      age deck embarked\n",
      "61   38.0    B      NaN\n",
      "829  62.0    B      NaN\n"
     ]
    }
   ],
   "source": [
    "#Buscando valores faltantes!\n",
    "null_columns=titanic.columns[titanic.isnull().any()]\n",
    "print(titanic[titanic[\"embarked\"].isnull()][null_columns])"
   ]
  },
  {
   "cell_type": "code",
   "execution_count": null,
   "metadata": {
    "colab": {
     "base_uri": "https://localhost:8080/",
     "height": 35
    },
    "colab_type": "code",
    "executionInfo": {
     "elapsed": 502,
     "status": "ok",
     "timestamp": 1597161957841,
     "user": {
      "displayName": "oscar julian perdomo charry",
      "photoUrl": "https://lh3.googleusercontent.com/a-/AOh14Gj50GKHE5azeLasCIdHHvJyKbb-J9QYQYnhmZmjUmY=s64",
      "userId": "00703697915370109039"
     },
     "user_tz": 300
    },
    "id": "Nu3Xu3HuLF7K",
    "outputId": "cfa6bb8f-0082-4bd5-e8a7-9430a33d3259"
   },
   "outputs": [
    {
     "data": {
      "text/plain": [
       "(nan, nan)"
      ]
     },
     "execution_count": 63,
     "metadata": {
      "tags": []
     },
     "output_type": "execute_result"
    }
   ],
   "source": [
    "titanic[\"embarked\"][61], titanic[\"embarked\"][829]"
   ]
  },
  {
   "cell_type": "code",
   "execution_count": null,
   "metadata": {
    "colab": {
     "base_uri": "https://localhost:8080/",
     "height": 424
    },
    "colab_type": "code",
    "executionInfo": {
     "elapsed": 477,
     "status": "ok",
     "timestamp": 1597161978148,
     "user": {
      "displayName": "oscar julian perdomo charry",
      "photoUrl": "https://lh3.googleusercontent.com/a-/AOh14Gj50GKHE5azeLasCIdHHvJyKbb-J9QYQYnhmZmjUmY=s64",
      "userId": "00703697915370109039"
     },
     "user_tz": 300
    },
    "id": "ZZdIean99kcd",
    "outputId": "598e09c3-cd04-4325-bbf2-6958b2b03896"
   },
   "outputs": [
    {
     "data": {
      "text/html": [
       "<div>\n",
       "<style scoped>\n",
       "    .dataframe tbody tr th:only-of-type {\n",
       "        vertical-align: middle;\n",
       "    }\n",
       "\n",
       "    .dataframe tbody tr th {\n",
       "        vertical-align: top;\n",
       "    }\n",
       "\n",
       "    .dataframe thead th {\n",
       "        text-align: right;\n",
       "    }\n",
       "</style>\n",
       "<table border=\"1\" class=\"dataframe\">\n",
       "  <thead>\n",
       "    <tr style=\"text-align: right;\">\n",
       "      <th></th>\n",
       "      <th>survived</th>\n",
       "      <th>sex</th>\n",
       "      <th>age</th>\n",
       "      <th>sibsp</th>\n",
       "      <th>parch</th>\n",
       "      <th>fare</th>\n",
       "      <th>class</th>\n",
       "      <th>who</th>\n",
       "      <th>embarked</th>\n",
       "      <th>alone</th>\n",
       "    </tr>\n",
       "  </thead>\n",
       "  <tbody>\n",
       "    <tr>\n",
       "      <th>828</th>\n",
       "      <td>1</td>\n",
       "      <td>male</td>\n",
       "      <td>62.00</td>\n",
       "      <td>0</td>\n",
       "      <td>0</td>\n",
       "      <td>7.7500</td>\n",
       "      <td>Third</td>\n",
       "      <td>man</td>\n",
       "      <td>Queenstown</td>\n",
       "      <td>True</td>\n",
       "    </tr>\n",
       "    <tr>\n",
       "      <th>829</th>\n",
       "      <td>1</td>\n",
       "      <td>female</td>\n",
       "      <td>62.00</td>\n",
       "      <td>0</td>\n",
       "      <td>0</td>\n",
       "      <td>80.0000</td>\n",
       "      <td>First</td>\n",
       "      <td>woman</td>\n",
       "      <td>Cherbourg</td>\n",
       "      <td>True</td>\n",
       "    </tr>\n",
       "    <tr>\n",
       "      <th>830</th>\n",
       "      <td>1</td>\n",
       "      <td>female</td>\n",
       "      <td>15.00</td>\n",
       "      <td>1</td>\n",
       "      <td>0</td>\n",
       "      <td>14.4542</td>\n",
       "      <td>Third</td>\n",
       "      <td>child</td>\n",
       "      <td>Cherbourg</td>\n",
       "      <td>False</td>\n",
       "    </tr>\n",
       "    <tr>\n",
       "      <th>831</th>\n",
       "      <td>1</td>\n",
       "      <td>male</td>\n",
       "      <td>0.83</td>\n",
       "      <td>1</td>\n",
       "      <td>1</td>\n",
       "      <td>18.7500</td>\n",
       "      <td>Second</td>\n",
       "      <td>child</td>\n",
       "      <td>Southampton</td>\n",
       "      <td>False</td>\n",
       "    </tr>\n",
       "    <tr>\n",
       "      <th>832</th>\n",
       "      <td>0</td>\n",
       "      <td>male</td>\n",
       "      <td>23.00</td>\n",
       "      <td>0</td>\n",
       "      <td>0</td>\n",
       "      <td>7.2292</td>\n",
       "      <td>Third</td>\n",
       "      <td>man</td>\n",
       "      <td>Cherbourg</td>\n",
       "      <td>True</td>\n",
       "    </tr>\n",
       "    <tr>\n",
       "      <th>...</th>\n",
       "      <td>...</td>\n",
       "      <td>...</td>\n",
       "      <td>...</td>\n",
       "      <td>...</td>\n",
       "      <td>...</td>\n",
       "      <td>...</td>\n",
       "      <td>...</td>\n",
       "      <td>...</td>\n",
       "      <td>...</td>\n",
       "      <td>...</td>\n",
       "    </tr>\n",
       "    <tr>\n",
       "      <th>886</th>\n",
       "      <td>0</td>\n",
       "      <td>male</td>\n",
       "      <td>27.00</td>\n",
       "      <td>0</td>\n",
       "      <td>0</td>\n",
       "      <td>13.0000</td>\n",
       "      <td>Second</td>\n",
       "      <td>man</td>\n",
       "      <td>Southampton</td>\n",
       "      <td>True</td>\n",
       "    </tr>\n",
       "    <tr>\n",
       "      <th>887</th>\n",
       "      <td>1</td>\n",
       "      <td>female</td>\n",
       "      <td>19.00</td>\n",
       "      <td>0</td>\n",
       "      <td>0</td>\n",
       "      <td>30.0000</td>\n",
       "      <td>First</td>\n",
       "      <td>woman</td>\n",
       "      <td>Southampton</td>\n",
       "      <td>True</td>\n",
       "    </tr>\n",
       "    <tr>\n",
       "      <th>888</th>\n",
       "      <td>0</td>\n",
       "      <td>female</td>\n",
       "      <td>26.00</td>\n",
       "      <td>1</td>\n",
       "      <td>2</td>\n",
       "      <td>23.4500</td>\n",
       "      <td>Third</td>\n",
       "      <td>woman</td>\n",
       "      <td>Southampton</td>\n",
       "      <td>False</td>\n",
       "    </tr>\n",
       "    <tr>\n",
       "      <th>889</th>\n",
       "      <td>1</td>\n",
       "      <td>male</td>\n",
       "      <td>26.00</td>\n",
       "      <td>0</td>\n",
       "      <td>0</td>\n",
       "      <td>30.0000</td>\n",
       "      <td>First</td>\n",
       "      <td>man</td>\n",
       "      <td>Cherbourg</td>\n",
       "      <td>True</td>\n",
       "    </tr>\n",
       "    <tr>\n",
       "      <th>890</th>\n",
       "      <td>0</td>\n",
       "      <td>male</td>\n",
       "      <td>32.00</td>\n",
       "      <td>0</td>\n",
       "      <td>0</td>\n",
       "      <td>7.7500</td>\n",
       "      <td>Third</td>\n",
       "      <td>man</td>\n",
       "      <td>Queenstown</td>\n",
       "      <td>True</td>\n",
       "    </tr>\n",
       "  </tbody>\n",
       "</table>\n",
       "<p>63 rows × 10 columns</p>\n",
       "</div>"
      ],
      "text/plain": [
       "     survived     sex    age  sibsp  ...   class    who     embarked  alone\n",
       "828         1    male  62.00      0  ...   Third    man   Queenstown   True\n",
       "829         1  female  62.00      0  ...   First  woman    Cherbourg   True\n",
       "830         1  female  15.00      1  ...   Third  child    Cherbourg  False\n",
       "831         1    male   0.83      1  ...  Second  child  Southampton  False\n",
       "832         0    male  23.00      0  ...   Third    man    Cherbourg   True\n",
       "..        ...     ...    ...    ...  ...     ...    ...          ...    ...\n",
       "886         0    male  27.00      0  ...  Second    man  Southampton   True\n",
       "887         1  female  19.00      0  ...   First  woman  Southampton   True\n",
       "888         0  female  26.00      1  ...   Third  woman  Southampton  False\n",
       "889         1    male  26.00      0  ...   First    man    Cherbourg   True\n",
       "890         0    male  32.00      0  ...   Third    man   Queenstown   True\n",
       "\n",
       "[63 rows x 10 columns]"
      ]
     },
     "execution_count": 64,
     "metadata": {
      "tags": []
     },
     "output_type": "execute_result"
    }
   ],
   "source": [
    "# Revisando valores faltantes\n",
    "titanic['embarked'] = titanic['embarked'].fillna(method='bfill')\n",
    "titanic = titanic.drop(['deck'], axis=1)\n",
    "titanic['age'] = titanic['age'].fillna(method='bfill')\n",
    "titanic.tail(63)"
   ]
  },
  {
   "cell_type": "code",
   "execution_count": null,
   "metadata": {
    "colab": {
     "base_uri": "https://localhost:8080/",
     "height": 35
    },
    "colab_type": "code",
    "executionInfo": {
     "elapsed": 1232,
     "status": "ok",
     "timestamp": 1597161991000,
     "user": {
      "displayName": "oscar julian perdomo charry",
      "photoUrl": "https://lh3.googleusercontent.com/a-/AOh14Gj50GKHE5azeLasCIdHHvJyKbb-J9QYQYnhmZmjUmY=s64",
      "userId": "00703697915370109039"
     },
     "user_tz": 300
    },
    "id": "wmUBAnRGMqkN",
    "outputId": "a7aa1621-7e70-4e78-eae9-bfdb7bed77ab"
   },
   "outputs": [
    {
     "data": {
      "text/plain": [
       "('Southampton', 'Cherbourg')"
      ]
     },
     "execution_count": 65,
     "metadata": {
      "tags": []
     },
     "output_type": "execute_result"
    }
   ],
   "source": [
    "titanic[\"embarked\"][61], titanic[\"embarked\"][829]"
   ]
  },
  {
   "cell_type": "code",
   "execution_count": null,
   "metadata": {
    "colab": {
     "base_uri": "https://localhost:8080/",
     "height": 206
    },
    "colab_type": "code",
    "executionInfo": {
     "elapsed": 1120,
     "status": "ok",
     "timestamp": 1597162000523,
     "user": {
      "displayName": "oscar julian perdomo charry",
      "photoUrl": "https://lh3.googleusercontent.com/a-/AOh14Gj50GKHE5azeLasCIdHHvJyKbb-J9QYQYnhmZmjUmY=s64",
      "userId": "00703697915370109039"
     },
     "user_tz": 300
    },
    "id": "0A40vxM19z_2",
    "outputId": "ae2eb720-ea39-460f-930f-1891d5de78f1"
   },
   "outputs": [
    {
     "data": {
      "text/html": [
       "<div>\n",
       "<style scoped>\n",
       "    .dataframe tbody tr th:only-of-type {\n",
       "        vertical-align: middle;\n",
       "    }\n",
       "\n",
       "    .dataframe tbody tr th {\n",
       "        vertical-align: top;\n",
       "    }\n",
       "\n",
       "    .dataframe thead th {\n",
       "        text-align: right;\n",
       "    }\n",
       "</style>\n",
       "<table border=\"1\" class=\"dataframe\">\n",
       "  <thead>\n",
       "    <tr style=\"text-align: right;\">\n",
       "      <th></th>\n",
       "      <th>survived</th>\n",
       "      <th>sex</th>\n",
       "      <th>age</th>\n",
       "      <th>sibsp</th>\n",
       "      <th>parch</th>\n",
       "      <th>fare</th>\n",
       "      <th>class</th>\n",
       "      <th>who</th>\n",
       "      <th>embarked</th>\n",
       "      <th>alone</th>\n",
       "    </tr>\n",
       "  </thead>\n",
       "  <tbody>\n",
       "    <tr>\n",
       "      <th>0</th>\n",
       "      <td>0</td>\n",
       "      <td>1</td>\n",
       "      <td>22.0</td>\n",
       "      <td>1</td>\n",
       "      <td>0</td>\n",
       "      <td>7.2500</td>\n",
       "      <td>2</td>\n",
       "      <td>1</td>\n",
       "      <td>2</td>\n",
       "      <td>0</td>\n",
       "    </tr>\n",
       "    <tr>\n",
       "      <th>1</th>\n",
       "      <td>1</td>\n",
       "      <td>0</td>\n",
       "      <td>38.0</td>\n",
       "      <td>1</td>\n",
       "      <td>0</td>\n",
       "      <td>71.2833</td>\n",
       "      <td>0</td>\n",
       "      <td>2</td>\n",
       "      <td>0</td>\n",
       "      <td>0</td>\n",
       "    </tr>\n",
       "    <tr>\n",
       "      <th>2</th>\n",
       "      <td>1</td>\n",
       "      <td>0</td>\n",
       "      <td>26.0</td>\n",
       "      <td>0</td>\n",
       "      <td>0</td>\n",
       "      <td>7.9250</td>\n",
       "      <td>2</td>\n",
       "      <td>2</td>\n",
       "      <td>2</td>\n",
       "      <td>1</td>\n",
       "    </tr>\n",
       "    <tr>\n",
       "      <th>3</th>\n",
       "      <td>1</td>\n",
       "      <td>0</td>\n",
       "      <td>35.0</td>\n",
       "      <td>1</td>\n",
       "      <td>0</td>\n",
       "      <td>53.1000</td>\n",
       "      <td>0</td>\n",
       "      <td>2</td>\n",
       "      <td>2</td>\n",
       "      <td>0</td>\n",
       "    </tr>\n",
       "    <tr>\n",
       "      <th>4</th>\n",
       "      <td>0</td>\n",
       "      <td>1</td>\n",
       "      <td>35.0</td>\n",
       "      <td>0</td>\n",
       "      <td>0</td>\n",
       "      <td>8.0500</td>\n",
       "      <td>2</td>\n",
       "      <td>1</td>\n",
       "      <td>2</td>\n",
       "      <td>1</td>\n",
       "    </tr>\n",
       "  </tbody>\n",
       "</table>\n",
       "</div>"
      ],
      "text/plain": [
       "   survived  sex   age  sibsp  parch     fare  class  who  embarked  alone\n",
       "0         0    1  22.0      1      0   7.2500      2    1         2      0\n",
       "1         1    0  38.0      1      0  71.2833      0    2         0      0\n",
       "2         1    0  26.0      0      0   7.9250      2    2         2      1\n",
       "3         1    0  35.0      1      0  53.1000      0    2         2      0\n",
       "4         0    1  35.0      0      0   8.0500      2    1         2      1"
      ]
     },
     "execution_count": 66,
     "metadata": {
      "tags": []
     },
     "output_type": "execute_result"
    }
   ],
   "source": [
    "# convertir categóricas a etiquetas codificadas.\n",
    "from sklearn.preprocessing import LabelEncoder\n",
    "titanic_encoded = titanic.copy() # Hacemos un backup\n",
    "for label in ['sex', 'class', 'who', 'embarked', 'alone']:\n",
    "  titanic_encoded[label] = LabelEncoder().fit_transform(titanic_encoded[label])\n",
    "\n",
    "titanic_encoded.head()"
   ]
  },
  {
   "cell_type": "markdown",
   "metadata": {
    "colab_type": "text",
    "id": "z0ymVN26-UVx"
   },
   "source": [
    "## Primeros análisis exploratorios del dataset de Titanic"
   ]
  },
  {
   "cell_type": "code",
   "execution_count": null,
   "metadata": {
    "colab": {
     "base_uri": "https://localhost:8080/",
     "height": 693
    },
    "colab_type": "code",
    "executionInfo": {
     "elapsed": 1736,
     "status": "ok",
     "timestamp": 1597162029249,
     "user": {
      "displayName": "oscar julian perdomo charry",
      "photoUrl": "https://lh3.googleusercontent.com/a-/AOh14Gj50GKHE5azeLasCIdHHvJyKbb-J9QYQYnhmZmjUmY=s64",
      "userId": "00703697915370109039"
     },
     "user_tz": 300
    },
    "id": "bjYcJoJm-T0y",
    "outputId": "789b5ec5-1ab9-4d10-bdb7-cb047b2d4ef8"
   },
   "outputs": [
    {
     "data": {
      "image/png": "[encoded data removed]",
      "text/plain": [
       "<Figure size 1008x864 with 2 Axes>"
      ]
     },
     "metadata": {
      "tags": []
     },
     "output_type": "display_data"
    }
   ],
   "source": [
    "import matplotlib.pyplot as plt\n",
    "%matplotlib inline\n",
    "sns.set(style='ticks', color_codes=True)\n",
    "plt.figure(figsize=(14, 12))\n",
    "sns.heatmap(titanic_encoded.corr(), \n",
    "            linewidths=0.1, \n",
    "            square=True, \n",
    "            linecolor='white', \n",
    "            annot=True)\n",
    "plt.show()"
   ]
  },
  {
   "cell_type": "markdown",
   "metadata": {
    "colab_type": "text",
    "id": "0A9nWyJWD4Dt"
   },
   "source": [
    "### Algunas observaciones para la columna de `survived`\n",
    "\n",
    "1.   Cual es la relación con 'sex'\n",
    "2.   Existe una relación potencial con 'class' (or 'fare')\n",
    "3.   Pasa algo con 'who'?\n",
    "\n"
   ]
  },
  {
   "cell_type": "markdown",
   "metadata": {
    "colab_type": "text",
    "id": "OA3MzYk4BcAq"
   },
   "source": [
    "## Grafiquemos por separado para ver las correlaciones"
   ]
  },
  {
   "cell_type": "code",
   "execution_count": null,
   "metadata": {
    "colab": {
     "base_uri": "https://localhost:8080/",
     "height": 1000
    },
    "colab_type": "code",
    "executionInfo": {
     "elapsed": 29388,
     "status": "ok",
     "timestamp": 1597162190920,
     "user": {
      "displayName": "oscar julian perdomo charry",
      "photoUrl": "https://lh3.googleusercontent.com/a-/AOh14Gj50GKHE5azeLasCIdHHvJyKbb-J9QYQYnhmZmjUmY=s64",
      "userId": "00703697915370109039"
     },
     "user_tz": 300
    },
    "id": "lMX2rdYx-uqW",
    "outputId": "52932d24-8351-48de-dc09-c7e4fc257a78"
   },
   "outputs": [
    {
     "name": "stderr",
     "output_type": "stream",
     "text": [
      "/usr/local/lib/python3.6/dist-packages/seaborn/axisgrid.py:2071: UserWarning: The `size` parameter has been renamed to `height`; please update your code.\n",
      "  warnings.warn(msg, UserWarning)\n"
     ]
    },
    {
     "data": {
      "text/plain": [
       "<seaborn.axisgrid.PairGrid at 0x7f02fd772240>"
      ]
     },
     "execution_count": 68,
     "metadata": {
      "tags": []
     },
     "output_type": "execute_result"
    },
    {
     "data": {
      "image/png": "[encoded data removed]",
      "text/plain": [
       "<Figure size 1032.42x972 with 90 Axes>"
      ]
     },
     "metadata": {
      "tags": []
     },
     "output_type": "display_data"
    }
   ],
   "source": [
    "sns.set(style='whitegrid', color_codes=True)\n",
    "sns.pairplot(titanic_encoded, \n",
    "             kind='scatter', \n",
    "             hue='survived', \n",
    "             size=1.5, \n",
    "             plot_kws={'s': 30},\n",
    "             palette={0:'#EB434A', 1:'#61A98F'})"
   ]
  },
  {
   "cell_type": "markdown",
   "metadata": {
    "colab_type": "text",
    "id": "fHOeiJstfr4r"
   },
   "source": [
    "## 'survived' vs 'sex'"
   ]
  },
  {
   "cell_type": "code",
   "execution_count": null,
   "metadata": {
    "colab": {
     "base_uri": "https://localhost:8080/",
     "height": 306
    },
    "colab_type": "code",
    "executionInfo": {
     "elapsed": 727,
     "status": "ok",
     "timestamp": 1597162241210,
     "user": {
      "displayName": "oscar julian perdomo charry",
      "photoUrl": "https://lh3.googleusercontent.com/a-/AOh14Gj50GKHE5azeLasCIdHHvJyKbb-J9QYQYnhmZmjUmY=s64",
      "userId": "00703697915370109039"
     },
     "user_tz": 300
    },
    "id": "HaKaC06PCehQ",
    "outputId": "19e149ea-c659-4ce1-83ea-3b2bc8e8920f"
   },
   "outputs": [
    {
     "data": {
      "text/plain": [
       "Text(0.5, 0.95, 'Survival distribution w.r.t. Gender')"
      ]
     },
     "execution_count": 69,
     "metadata": {
      "tags": []
     },
     "output_type": "execute_result"
    },
    {
     "data": {
      "image/png": "[encoded data removed]",
      "text/plain": [
       "<Figure size 432x288 with 1 Axes>"
      ]
     },
     "metadata": {
      "tags": []
     },
     "output_type": "display_data"
    }
   ],
   "source": [
    "fig = plt.figure()\n",
    "ax = sns.countplot(x='sex', \n",
    "                   hue='survived', \n",
    "                   palette={0:'#EB434A', 1:'#61A98F'}, \n",
    "                   data=titanic)\n",
    "ax.set(xlabel='', ylabel='Total')\n",
    "fig.suptitle(\"Survival distribution w.r.t. Gender\", y=0.95)"
   ]
  },
  {
   "cell_type": "markdown",
   "metadata": {
    "colab_type": "text",
    "id": "WE0J_uEWjW6M"
   },
   "source": [
    "### Observaciones???\n",
    "\n",
    "1.   Sex?\n",
    "2.   Edad?\n",
    "\n",
    "\n"
   ]
  },
  {
   "cell_type": "markdown",
   "metadata": {
    "colab_type": "text",
    "id": "WmnMWcBaisHH"
   },
   "source": [
    "## 'survived' v/s 'age'"
   ]
  },
  {
   "cell_type": "code",
   "execution_count": null,
   "metadata": {
    "colab": {
     "base_uri": "https://localhost:8080/",
     "height": 853
    },
    "colab_type": "code",
    "executionInfo": {
     "elapsed": 2943,
     "status": "ok",
     "timestamp": 1597162280141,
     "user": {
      "displayName": "oscar julian perdomo charry",
      "photoUrl": "https://lh3.googleusercontent.com/a-/AOh14Gj50GKHE5azeLasCIdHHvJyKbb-J9QYQYnhmZmjUmY=s64",
      "userId": "00703697915370109039"
     },
     "user_tz": 300
    },
    "id": "JSWhf0QLf2bK",
    "outputId": "c9e365fd-0bc9-4785-dc28-8a2553444696"
   },
   "outputs": [
    {
     "data": {
      "text/plain": [
       "Text(0.5, 0.9, 'Survival distribution w.r.t. Age')"
      ]
     },
     "execution_count": 70,
     "metadata": {
      "tags": []
     },
     "output_type": "execute_result"
    },
    {
     "data": {
      "image/png": "[encoded data removed]",
      "text/plain": [
       "<Figure size 1440x990 with 1 Axes>"
      ]
     },
     "metadata": {
      "tags": []
     },
     "output_type": "display_data"
    }
   ],
   "source": [
    "data = titanic_encoded.copy()\n",
    "data['age'] = data['age'].apply(lambda h: round(h))\n",
    "\n",
    "fig = plt.figure(figsize=(20, 5.5/8*20))\n",
    "ax = sns.countplot(x='age', \n",
    "                   hue='survived', \n",
    "                   palette={0:'#EB434A', 1:'#61A98F'}, \n",
    "                   data=data)\n",
    "ax.set(xlabel='Age', ylabel='Total')\n",
    "fig.suptitle(\"Survival distribution w.r.t. Age\", y=0.9)"
   ]
  },
  {
   "cell_type": "markdown",
   "metadata": {
    "colab_type": "text",
    "id": "YWI2uqA5m35t"
   },
   "source": [
    "### Observations\n",
    "\n",
    "\n",
    "1.   Bebes / niños menores de 7?\n",
    "2.   Rango de edades de 7-18?\n",
    "3.   Rango de edades 19-64?\n",
    "4.   Rango de edades 65-80?\n"
   ]
  },
  {
   "cell_type": "markdown",
   "metadata": {
    "colab_type": "text",
    "id": "I1q5EnO0zyYQ"
   },
   "source": [
    "## 'survived' v/s 'who'"
   ]
  },
  {
   "cell_type": "code",
   "execution_count": null,
   "metadata": {
    "colab": {
     "base_uri": "https://localhost:8080/",
     "height": 306
    },
    "colab_type": "code",
    "executionInfo": {
     "elapsed": 753,
     "status": "ok",
     "timestamp": 1597162437357,
     "user": {
      "displayName": "oscar julian perdomo charry",
      "photoUrl": "https://lh3.googleusercontent.com/a-/AOh14Gj50GKHE5azeLasCIdHHvJyKbb-J9QYQYnhmZmjUmY=s64",
      "userId": "00703697915370109039"
     },
     "user_tz": 300
    },
    "id": "HOVGUW3RzxwY",
    "outputId": "9ce5358d-5ff1-4b66-b89c-b1981de576a2"
   },
   "outputs": [
    {
     "data": {
      "text/plain": [
       "Text(0.5, 0.95, 'Survival distribution w.r.t. Age category')"
      ]
     },
     "execution_count": 71,
     "metadata": {
      "tags": []
     },
     "output_type": "execute_result"
    },
    {
     "data": {
      "image/png": "[encoded data removed]",
      "text/plain": [
       "<Figure size 432x288 with 1 Axes>"
      ]
     },
     "metadata": {
      "tags": []
     },
     "output_type": "display_data"
    }
   ],
   "source": [
    "fig = plt.figure()\n",
    "ax = sns.countplot(x='who', \n",
    "                   hue='survived', \n",
    "                   palette={0:'#EB434A', 1:'#61A98F'}, \n",
    "                   data=titanic)\n",
    "ax.set(xlabel='', ylabel='Total')\n",
    "fig.suptitle(\"Survival distribution w.r.t. Age category\", y=0.95)"
   ]
  },
  {
   "cell_type": "markdown",
   "metadata": {
    "colab_type": "text",
    "id": "3PaiimzIz9GY"
   },
   "source": [
    "### Observaciones??\n",
    "\n",
    "\n",
    "1.   Niños y mujeres?\n",
    "2.   Mujeres vs niños?\n",
    "\n"
   ]
  },
  {
   "cell_type": "markdown",
   "metadata": {
    "colab_type": "text",
    "id": "1ZWAYtvwm-WJ"
   },
   "source": [
    "## 'survived' v/s 'class'"
   ]
  },
  {
   "cell_type": "code",
   "execution_count": null,
   "metadata": {
    "colab": {
     "base_uri": "https://localhost:8080/",
     "height": 306
    },
    "colab_type": "code",
    "executionInfo": {
     "elapsed": 1185,
     "status": "ok",
     "timestamp": 1597162467474,
     "user": {
      "displayName": "oscar julian perdomo charry",
      "photoUrl": "https://lh3.googleusercontent.com/a-/AOh14Gj50GKHE5azeLasCIdHHvJyKbb-J9QYQYnhmZmjUmY=s64",
      "userId": "00703697915370109039"
     },
     "user_tz": 300
    },
    "id": "Lw-Rm9RPlFYb",
    "outputId": "ca07577b-8a8e-4e37-9fde-56577f3ca618"
   },
   "outputs": [
    {
     "data": {
      "text/plain": [
       "Text(0.5, 0.95, 'Survival distribution w.r.t. Passenger class')"
      ]
     },
     "execution_count": 72,
     "metadata": {
      "tags": []
     },
     "output_type": "execute_result"
    },
    {
     "data": {
      "image/png": "[encoded data removed]",
      "text/plain": [
       "<Figure size 432x288 with 1 Axes>"
      ]
     },
     "metadata": {
      "tags": []
     },
     "output_type": "display_data"
    }
   ],
   "source": [
    "fig = plt.figure()\n",
    "ax = sns.countplot(x='class', \n",
    "                   hue='survived', \n",
    "                   palette={0:'#EB434A', 1:'#61A98F'}, \n",
    "                   data=titanic)\n",
    "ax.set(xlabel='', ylabel='Total')\n",
    "fig.suptitle(\"Survival distribution w.r.t. Passenger class\", y=0.95)"
   ]
  },
  {
   "cell_type": "markdown",
   "metadata": {
    "colab_type": "text",
    "id": "Hv52lNDcn8MZ"
   },
   "source": [
    "### Observaciones?\n",
    "\n",
    "1.   Primera? Segunda? Tercera clase?\n",
    "2.   (Primera & Segunda) vs Tercera clase?\n"
   ]
  },
  {
   "cell_type": "markdown",
   "metadata": {
    "colab_type": "text",
    "id": "E2zSvxj2VYKC"
   },
   "source": [
    "# Material extra de clase\n",
    "1. [Actividad](https://www.urosario.edu.co/Documentos/Escuela-de-Medicina-y-Ciencias-de-la-Salud/Actividad-para-la-clase.pdf)\n",
    "2. [Pronóstico de cancer de seno](https://archive.ics.uci.edu/ml/datasets/Breast+Cancer+Wisconsin+%28Prognostic%29)\n",
    "3. [Diagóstico de cancer de seno](https://archive.ics.uci.edu/ml/datasets/Breast+Cancer+Wisconsin+%28Diagnostic%29)"
   ]
  },
  {
   "cell_type": "markdown",
   "metadata": {
    "colab_type": "text",
    "id": "zRgrZp_EYsD3"
   },
   "source": [
    "##**Muchas gracias a todos por su atención!!!**\n",
    "![alt text](https://cdn.lanetaneta.com/wp-content/uploads/2019/12/Los-10-mejores-memes-de-Rick-y-Morty-que-solo-780x405.jpg.webp)"
   ]
  }
 ],
 "metadata": {
  "accelerator": "TPU",
  "colab": {
   "collapsed_sections": [],
   "name": "JugandoConDatos.ipynb",
   "provenance": []
  },
  "kernelspec": {
   "display_name": "Python 3",
   "language": "python",
   "name": "python3"
  },
  "language_info": {
   "codemirror_mode": {
    "name": "ipython",
    "version": 3
   },
   "file_extension": ".py",
   "mimetype": "text/x-python",
   "name": "python",
   "nbconvert_exporter": "python",
   "pygments_lexer": "ipython3",
   "version": "3.7.6"
  }
 },
 "nbformat": 4,
 "nbformat_minor": 1
}
